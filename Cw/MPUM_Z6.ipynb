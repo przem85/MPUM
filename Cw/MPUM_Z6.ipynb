{
 "cells": [
  {
   "cell_type": "markdown",
   "metadata": {},
   "source": [
    "#Zadanie 1.\n",
    "Wygeneruj dane zgodnie z poniższym przykładem. Następnie dopasuj regresje liniową, wielomianową stopnia 3 i 17. Dane oraz wszystkie trzy krzywe umieść na jednym wykresie. Ponadto dobierz standardową ridge regression z parametrem lambda równym 1 i 10, a także biorąc pod uwagę (w funkcji kary) wszystkie współczynnniki. Porównaj na wykresie nowe krzywe z regresją wielomianową stopnia 17.\n"
   ]
  },
  {
   "cell_type": "code",
   "execution_count": null,
   "metadata": {
    "collapsed": true
   },
   "outputs": [],
   "source": [
    "import numpy as np\n",
    "x=np.linspace(0,2*np.pi,40)\n",
    "y=np.sin(x)+np.random.normal(0,0.4,40)\n",
    "import matplotlib.pyplot as plt\n",
    "\n",
    "plt.scatter(x,y)\n",
    "plt.show()\n",
    "import sklearn.linear_model as lm\n",
    "#lub\n",
    "#form sklearn.linear_model import LinearRegression\n",
    "#form sklearn.linear_model import Ridge\n",
    "# do ridge regression\n",
    "\n",
    "import sklearn.preprocessing as pr\n",
    "# do wyrenerowania danych X w dopasowaniu liniowym (kolejnych poteg zmiennej x)\n",
    "#lub\n",
    "#form sklearn.preprocessing import PolynomialFeatures"
   ]
  },
  {
   "cell_type": "markdown",
   "metadata": {},
   "source": [
    "#Zadanie 2.\n",
    "Korzystając z równania normalnego dla regresji liniowej z regularyzacją ($X'^TX'+lambda I_{p-1}beta'=X'^Ty$ i $beta_0$ równa sredniej z $y$) oblicz bety dla danych z poprzedniego przykładu oraz porównaj je z wynikami uzyskanymi wcześniej.\n"
   ]
  },
  {
   "cell_type": "markdown",
   "metadata": {},
   "source": [
    "#Zadanie 3.\n",
    "Wygeneruj dane zgodnie z poniższym przykładem. Następnie dopasuj regresje logistyczną (zmiennej zależnej y od dwóch zmiennych X[:,:1], X[:,1:2]) oraz regresję logistyczną od zmiennych X[:,:1], X[:,1:2] i potęg(do stopnia 4) zmiennej X[:,:1].\n",
    "Dane oraz dwie krzywe brzegowe umieść na jednym wykresie. Ponadto wykonaj regresje logistyczą z regularyzacją l2 z parametrem lambda równym 1 i 10, a także nie biorąc pod uwagę współczynnika zerowego. Porównaj na wykresie nowe krzywe z wcześniejszymi.\n",
    "Przedstaw też tabele \"True/False Positive/Negative\" dla modeli wykonanych w tym zadaniu."
   ]
  },
  {
   "cell_type": "code",
   "execution_count": 1,
   "metadata": {},
   "outputs": [
    {
     "data": {
      "image/png": "[encoded data removed]",
      "text/plain": [
       "<matplotlib.figure.Figure at 0x9ff28d0>"
      ]
     },
     "metadata": {},
     "output_type": "display_data"
    }
   ],
   "source": [
    "import numpy as np\n",
    "import pandas as pd\n",
    "from sklearn.metrics import classification_report, confusion_matrix\n",
    "\n",
    "N=30\n",
    "\n",
    "df1 =5*pd.DataFrame(np.random.randn(N, 3), columns=['A', 'B','C'])\n",
    "df2 =10+10*pd.DataFrame(np.random.randn(N, 3), columns=['A', 'B','C'])\n",
    "\n",
    "Data=np.concatenate((df1, df2), axis=0)\n",
    "Data[:,2]=1\n",
    "Data[0:N,2]=0\n",
    "\n",
    "\n",
    "import matplotlib.pyplot as plt\n",
    "\n",
    "s='b'*N+'r'*N\n",
    "plt.scatter(Data[:,0],Data[:,1], s=5,alpha=1,c=list(s))\n",
    "plt.show()"
   ]
  },
  {
   "cell_type": "markdown",
   "metadata": {},
   "source": [
    "#Zadanie 4\n",
    "Dla dobrze znanych danych iris wykonaj powyższe polecenia, tj. dopasuj model logistyczny bez regularyzacji oraz z regularyzacją przy różnie dobranych parametrach. Każdy model zobrazuj na odpowiednim wykresie oraz porównaj podstawowe charakterystyki modeli (wynikające z tabeli \"True/False Positive/Negative\")."
   ]
  },
  {
   "cell_type": "code",
   "execution_count": null,
   "metadata": {
    "collapsed": true
   },
   "outputs": [],
   "source": [
    ""
   ]
  }
 ],
 "metadata": {
  "kernelspec": {
   "display_name": "Python 3",
   "language": "python",
   "name": "python3"
  },
  "language_info": {
   "codemirror_mode": {
    "name": "ipython",
    "version": 3.0
   },
   "file_extension": ".py",
   "mimetype": "text/x-python",
   "name": "python",
   "nbconvert_exporter": "python",
   "pygments_lexer": "ipython3",
   "version": "3.6.1"
  }
 },
 "nbformat": 4,
 "nbformat_minor": 0
}