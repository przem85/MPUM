{
 "cells": [
  {
   "cell_type": "markdown",
   "metadata": {},
   "source": [
    "# TensorFlow"
   ]
  },
  {
   "cell_type": "code",
   "execution_count": 13,
   "metadata": {
    "collapsed": true
   },
   "outputs": [],
   "source": [
    "import tensorflow as tf\n",
    "x = tf.Variable(3, name=\"x\")\n",
    "y = tf.Variable(4, name=\"y\")\n",
    "f = x*x*y + y + 2"
   ]
  },
  {
   "cell_type": "markdown",
   "metadata": {},
   "source": [
    "\n",
    "Najważniejszą rzeczą do zrozumienia jest to, że ten kod w rzeczywistości nie wykonuje żadnych obliczeń, nawet jeśli wygląda na to (szczególnie na ostatniej linii). Po prostu tworzy graf obliczeniowy. \n",
    "\n",
    "W rzeczywistości nawet zmienne nie zostały jeszcze zainicjowane. Aby wykonać ten graf, należy otworzyć sesję TensorFlow i użyć jej do zainicjowania zmiennych i wyliczenia $f$. \n",
    "\n",
    "Sesja TensorFlow zajmuje się umieszczaniem operacji na urządzeniach takich jak procesory i GPU oraz ich uruchomieniem i przechowuje wszystkie wartości zmiennych:\n"
   ]
  },
  {
   "cell_type": "code",
   "execution_count": 14,
   "metadata": {},
   "outputs": [
    {
     "name": "stdout",
     "output_type": "stream",
     "text": [
      "42\n"
     ]
    }
   ],
   "source": [
    "sess = tf.Session()\n",
    "sess.run(x.initializer)\n",
    "sess.run(y.initializer)\n",
    "result = sess.run(f)\n",
    "print(result)\n",
    "sess.close()"
   ]
  },
  {
   "cell_type": "markdown",
   "metadata": {},
   "source": [
    "Ciągłe powtarzanie sesji **sess.run()** jest nieco uciążliwe, ale na szczęście jest lepszy sposób:"
   ]
  },
  {
   "cell_type": "code",
   "execution_count": 15,
   "metadata": {},
   "outputs": [
    {
     "name": "stdout",
     "output_type": "stream",
     "text": [
      "42\n"
     ]
    }
   ],
   "source": [
    "with tf.Session() as sess:\n",
    "    x.initializer.run()\n",
    "    y.initializer.run()\n",
    "    result = f.eval()\n",
    "    print(result)"
   ]
  },
  {
   "cell_type": "markdown",
   "metadata": {},
   "source": [
    "Zamiast ręcznie uruchamiać inicjalizator dla każdej zmiennej, można użyć skrótu\n",
    "Funkcja **global_variables_initializer()**. Zauważ, że nie wykonuje on natychmiastowej nitlizacji, lecz tworzy na wykresie węzeł, który inicjalizuje wszystkie zmienne podczas działania:"
   ]
  },
  {
   "cell_type": "code",
   "execution_count": 16,
   "metadata": {},
   "outputs": [
    {
     "name": "stdout",
     "output_type": "stream",
     "text": [
      "42\n"
     ]
    }
   ],
   "source": [
    "init = tf.global_variables_initializer() # prepare an init node\n",
    "with tf.Session() as sess:\n",
    "    init.run() # actually initialize all the variables\n",
    "    result = f.eval()\n",
    "    print(result)"
   ]
  },
  {
   "cell_type": "markdown",
   "metadata": {},
   "source": [
    "Program TensorFlow dzieli się zazwyczaj na dwie części: pierwsza część tworzy graf obliczeniowy (nazywa się to fazą konstrukcyjną), a druga część uruchamia go (jest to faza wykonania)."
   ]
  },
  {
   "cell_type": "markdown",
   "metadata": {},
   "source": [
    "# Tworzeniw grfów\n",
    "Każdy utworzony węzeł jest automatycznie dodawany do domyślnego grafu:"
   ]
  },
  {
   "cell_type": "code",
   "execution_count": 17,
   "metadata": {},
   "outputs": [
    {
     "data": {
      "text/plain": [
       "True"
      ]
     },
     "execution_count": 17,
     "metadata": {},
     "output_type": "execute_result"
    }
   ],
   "source": [
    "x1 = tf.Variable(1)\n",
    "x1.graph is tf.get_default_graph()"
   ]
  },
  {
   "cell_type": "markdown",
   "metadata": {},
   "source": [
    "W większości przypadków jest to w porządku, ale czasami możesz chcieć zarządzać wieloma niezależnymi grafami. Możesz to zrobić, tworząc nowy graf i tymczasowo ustawiając go jako domyślny wykres wewnątrz bloku:"
   ]
  },
  {
   "cell_type": "code",
   "execution_count": 18,
   "metadata": {},
   "outputs": [
    {
     "data": {
      "text/plain": [
       "True"
      ]
     },
     "execution_count": 18,
     "metadata": {},
     "output_type": "execute_result"
    }
   ],
   "source": [
    "graph = tf.Graph()\n",
    "with graph.as_default():\n",
    "    x2 = tf.Variable(2)\n",
    "\n",
    "x2.graph is graph"
   ]
  },
  {
   "cell_type": "code",
   "execution_count": 19,
   "metadata": {},
   "outputs": [
    {
     "data": {
      "text/plain": [
       "False"
      ]
     },
     "execution_count": 19,
     "metadata": {},
     "output_type": "execute_result"
    }
   ],
   "source": [
    "x2.graph is tf.get_default_graph()"
   ]
  },
  {
   "cell_type": "markdown",
   "metadata": {},
   "source": [
    "W Jupyter (lub w powłoce Pythona) często używa się tych samych poleceń więcej niż raz podczas eksperymentowania. W rezultacie może pojawić się domyślny wykres zawierający wiele zduplikowanych węzłów. Jednym z rozwiązań jest ponowne uruchomienie jądra Jupytera (lub powłoki Pythona), ale wygodniejszym rozwiązaniem jest przywrócenie domyślnego wykresu poprzez uruchomienie **tf.reset_default_graph()**."
   ]
  },
  {
   "cell_type": "markdown",
   "metadata": {},
   "source": [
    "Podczas inicjalizacji węzła TensorFlow automatycznie określa zestaw węzłów, od których zależy i najpierw inicjalizuje te węzły. Rozważmy na przykład następujący kod:"
   ]
  },
  {
   "cell_type": "code",
   "execution_count": 20,
   "metadata": {},
   "outputs": [
    {
     "name": "stdout",
     "output_type": "stream",
     "text": [
      "10\n",
      "15\n"
     ]
    }
   ],
   "source": [
    "w = tf.constant(3)\n",
    "x = w + 2\n",
    "y = x + 5\n",
    "z = x * 3\n",
    "with tf.Session() as sess:\n",
    "    print(y.eval()) \n",
    "    print(z.eval()) "
   ]
  },
  {
   "cell_type": "markdown",
   "metadata": {},
   "source": [
    "# Linear Regression with TensorFlow"
   ]
  },
  {
   "cell_type": "markdown",
   "metadata": {},
   "source": [
    "Weźmy dane housing oraz wykonajmy regresję liniową za pomocą rozwiązania układu równań liniowych."
   ]
  },
  {
   "cell_type": "code",
   "execution_count": 21,
   "metadata": {},
   "outputs": [
    {
     "name": "stdout",
     "output_type": "stream",
     "text": [
      "20640 8\n"
     ]
    }
   ],
   "source": [
    "import numpy as np\n",
    "from sklearn.datasets import fetch_california_housing\n",
    "housing = fetch_california_housing()\n",
    "m, n = housing.data.shape\n",
    "print(m, n)\n",
    "\n",
    "from sklearn.preprocessing import StandardScaler\n",
    "scaler = StandardScaler()\n",
    "housing_data_scaled=scaler.fit_transform(housing.data)"
   ]
  },
  {
   "cell_type": "markdown",
   "metadata": {},
   "source": [
    "Za pomocą NumPy wyglądało by to tak:"
   ]
  },
  {
   "cell_type": "code",
   "execution_count": 22,
   "metadata": {},
   "outputs": [
    {
     "name": "stdout",
     "output_type": "stream",
     "text": [
      "(20640, 9)\n"
     ]
    }
   ],
   "source": [
    "housing_data_plus_bias = np.c_[np.ones((m, 1)), housing_data_scaled]\n",
    "print(housing_data_plus_bias.shape)"
   ]
  },
  {
   "cell_type": "code",
   "execution_count": 23,
   "metadata": {},
   "outputs": [
    {
     "name": "stdout",
     "output_type": "stream",
     "text": [
      "[[ 2.06855817]\n",
      " [ 0.8296193 ]\n",
      " [ 0.11875165]\n",
      " [-0.26552688]\n",
      " [ 0.30569623]\n",
      " [-0.004503  ]\n",
      " [-0.03932627]\n",
      " [-0.89988565]\n",
      " [-0.870541  ]]\n"
     ]
    }
   ],
   "source": [
    "X = housing_data_plus_bias\n",
    "y = housing.target.reshape(-1, 1)\n",
    "theta_numpy = np.linalg.inv(X.T.dot(X)).dot(X.T).dot(y)\n",
    "\n",
    "print(theta_numpy)"
   ]
  },
  {
   "cell_type": "markdown",
   "metadata": {
    "collapsed": true
   },
   "source": [
    "Za pomocą Scikit-Learn można to zrobić tak:"
   ]
  },
  {
   "cell_type": "code",
   "execution_count": 24,
   "metadata": {},
   "outputs": [
    {
     "name": "stdout",
     "output_type": "stream",
     "text": [
      "[[ 2.06855817]\n",
      " [ 0.8296193 ]\n",
      " [ 0.11875165]\n",
      " [-0.26552688]\n",
      " [ 0.30569623]\n",
      " [-0.004503  ]\n",
      " [-0.03932627]\n",
      " [-0.89988565]\n",
      " [-0.870541  ]]\n"
     ]
    }
   ],
   "source": [
    "from sklearn.linear_model import LinearRegression\n",
    "lin_reg = LinearRegression()\n",
    "lin_reg.fit(housing_data_scaled, housing.target.reshape(-1, 1))\n",
    "\n",
    "print(np.r_[lin_reg.intercept_.reshape(-1, 1), lin_reg.coef_.T])"
   ]
  },
  {
   "cell_type": "markdown",
   "metadata": {},
   "source": [
    "W tensorflow możemy to zrobić tak"
   ]
  },
  {
   "cell_type": "code",
   "execution_count": 25,
   "metadata": {
    "collapsed": true
   },
   "outputs": [],
   "source": [
    "X = tf.constant(housing_data_plus_bias, dtype=tf.float32, name=\"X\")\n",
    "y = tf.constant(housing.target.reshape(-1, 1), dtype=tf.float32, name=\"y\")"
   ]
  },
  {
   "cell_type": "code",
   "execution_count": 26,
   "metadata": {},
   "outputs": [
    {
     "name": "stdout",
     "output_type": "stream",
     "text": [
      "[[ 2.06856298]\n",
      " [ 0.82961965]\n",
      " [ 0.11875178]\n",
      " [-0.26552707]\n",
      " [ 0.30569667]\n",
      " [-0.00450281]\n",
      " [-0.03932635]\n",
      " [-0.8998825 ]\n",
      " [-0.87053877]]\n"
     ]
    }
   ],
   "source": [
    "XT = tf.transpose(X)\n",
    "theta = tf.matmul(tf.matmul(tf.matrix_inverse(tf.matmul(XT, X)), XT), y)\n",
    "with tf.Session() as sess:\n",
    "    theta_value = theta.eval()\n",
    "    print(theta_value)"
   ]
  },
  {
   "cell_type": "markdown",
   "metadata": {},
   "source": [
    "# Zad.\n",
    "Wykonaj regresje na poniższych danych oraz narysuj wykres"
   ]
  },
  {
   "cell_type": "code",
   "execution_count": 52,
   "metadata": {},
   "outputs": [
    {
     "data": {
      "image/png": "[encoded data removed]",
      "text/plain": [
       "<matplotlib.figure.Figure at 0x20dccb6ed30>"
      ]
     },
     "metadata": {},
     "output_type": "display_data"
    }
   ],
   "source": [
    "import numpy as np\n",
    "import tensorflow as tf\n",
    "data = np.loadtxt(\"life_satisfaction.csv\",\n",
    "                  dtype=np.float32,\n",
    "                  delimiter=\",\",\n",
    "                  skiprows=1,\n",
    "                  usecols=[1, 2])\n",
    "X_train = data[:, 0:1] / 10000 # feature scaling\n",
    "y_train = data[:, 1:2]\n",
    "\n",
    "import matplotlib.pyplot as plt\n",
    "\n",
    "plt.plot(X_train, y_train, \"bo\")\n",
    "plt.show()"
   ]
  },
  {
   "cell_type": "code",
   "execution_count": 78,
   "metadata": {},
   "outputs": [
    {
     "data": {
      "image/png": "[encoded data removed]",
      "text/plain": [
       "<matplotlib.figure.Figure at 0x20dcf84d7b8>"
      ]
     },
     "metadata": {},
     "output_type": "display_data"
    }
   ],
   "source": []
  },
  {
   "cell_type": "markdown",
   "metadata": {},
   "source": [
    "# Implementing Gradient Descent\n",
    "Możemy zminimalizować funkcję kosztu gradientowo wykorzystując gradient:\n",
    "```python\n",
    "gradients = 2/m * tf.matmul(tf.transpose(X), error)\n",
    "```"
   ]
  },
  {
   "cell_type": "code",
   "execution_count": 79,
   "metadata": {},
   "outputs": [
    {
     "name": "stdout",
     "output_type": "stream",
     "text": [
      "Epoch 0 MSE = 2.75443\n",
      "Epoch 100 MSE = 0.632222\n",
      "Epoch 200 MSE = 0.57278\n",
      "Epoch 300 MSE = 0.558501\n",
      "Epoch 400 MSE = 0.549069\n",
      "Epoch 500 MSE = 0.542288\n",
      "Epoch 600 MSE = 0.537379\n",
      "Epoch 700 MSE = 0.533822\n",
      "Epoch 800 MSE = 0.531243\n",
      "Epoch 900 MSE = 0.529371\n",
      "[[  2.06855226e+00]\n",
      " [  7.74078071e-01]\n",
      " [  1.31192386e-01]\n",
      " [ -1.17845096e-01]\n",
      " [  1.64778158e-01]\n",
      " [  7.44080753e-04]\n",
      " [ -3.91945168e-02]\n",
      " [ -8.61356616e-01]\n",
      " [ -8.23479712e-01]]\n"
     ]
    }
   ],
   "source": [
    "tf.reset_default_graph()\n",
    "\n",
    "n_epochs = 1000\n",
    "learning_rate = 0.01\n",
    "\n",
    "X = tf.constant(housing_data_plus_bias, dtype=tf.float32, name=\"X\")\n",
    "y = tf.constant(housing.target.reshape(-1, 1), dtype=tf.float32, name=\"y\")\n",
    "theta = tf.Variable(tf.random_uniform([n + 1, 1], -1.0, 1.0, seed=42), name=\"theta\")\n",
    "y_pred = tf.matmul(X, theta, name=\"predictions\")\n",
    "error = y_pred - y\n",
    "mse = tf.reduce_mean(tf.square(error), name=\"mse\")\n",
    "gradients = 2/m * tf.matmul(tf.transpose(X), error)\n",
    "training_op = tf.assign(theta, theta - learning_rate * gradients)\n",
    "\n",
    "init = tf.global_variables_initializer()\n",
    "\n",
    "with tf.Session() as sess:\n",
    "    sess.run(init)\n",
    "\n",
    "    for epoch in range(n_epochs):\n",
    "        if epoch % 100 == 0:\n",
    "            print(\"Epoch\", epoch, \"MSE =\", mse.eval())\n",
    "        sess.run(training_op)\n",
    "    \n",
    "    best_theta = theta.eval()\n",
    "    print(best_theta)"
   ]
  },
  {
   "cell_type": "markdown",
   "metadata": {
    "collapsed": true
   },
   "source": [
    "# Zad.\n",
    "Wykonaj regresje powyższym sposobem na danych life_satisfaction.csv oraz narysuj wykres:"
   ]
  },
  {
   "cell_type": "code",
   "execution_count": null,
   "metadata": {
    "collapsed": true
   },
   "outputs": [],
   "source": []
  },
  {
   "cell_type": "markdown",
   "metadata": {},
   "source": [
    "Możemy też użyć gradientu wyliczonego za pomocą automatycznego różniczkowania\n",
    "```python\n",
    "gradients = tf.gradients(mse, [theta])[0]\n",
    "```"
   ]
  },
  {
   "cell_type": "code",
   "execution_count": 25,
   "metadata": {},
   "outputs": [
    {
     "name": "stdout",
     "output_type": "stream",
     "text": [
      "Epoch 0 MSE = 2.75443\n",
      "Epoch 100 MSE = 0.632222\n",
      "Epoch 200 MSE = 0.57278\n",
      "Epoch 300 MSE = 0.558501\n",
      "Epoch 400 MSE = 0.549069\n",
      "Epoch 500 MSE = 0.542288\n",
      "Epoch 600 MSE = 0.537379\n",
      "Epoch 700 MSE = 0.533822\n",
      "Epoch 800 MSE = 0.531243\n",
      "Epoch 900 MSE = 0.529371\n",
      "Best theta:\n",
      "[[  2.06855249e+00]\n",
      " [  7.74078071e-01]\n",
      " [  1.31192386e-01]\n",
      " [ -1.17845066e-01]\n",
      " [  1.64778143e-01]\n",
      " [  7.44078017e-04]\n",
      " [ -3.91945094e-02]\n",
      " [ -8.61356676e-01]\n",
      " [ -8.23479772e-01]]\n"
     ]
    }
   ],
   "source": [
    "tf.reset_default_graph()\n",
    "\n",
    "n_epochs = 1000\n",
    "learning_rate = 0.01\n",
    "\n",
    "X = tf.constant(scaled_housing_data_plus_bias, dtype=tf.float32, name=\"X\")\n",
    "y = tf.constant(housing.target.reshape(-1, 1), dtype=tf.float32, name=\"y\")\n",
    "theta = tf.Variable(tf.random_uniform([n + 1, 1], -1.0, 1.0, seed=42), name=\"theta\")\n",
    "y_pred = tf.matmul(X, theta, name=\"predictions\")\n",
    "error = y_pred - y\n",
    "mse = tf.reduce_mean(tf.square(error), name=\"mse\")\n",
    "\n",
    "gradients = tf.gradients(mse, [theta])[0]\n",
    "\n",
    "training_op = tf.assign(theta, theta - learning_rate * gradients)\n",
    "\n",
    "init = tf.global_variables_initializer()\n",
    "with tf.Session() as sess:\n",
    "    sess.run(init)\n",
    "\n",
    "    for epoch in range(n_epochs):\n",
    "        if epoch % 100 == 0:\n",
    "            print(\"Epoch\", epoch, \"MSE =\", mse.eval())\n",
    "        sess.run(training_op)\n",
    "    \n",
    "    best_theta = theta.eval()\n",
    "\n",
    "print(\"Best theta:\")\n",
    "print(best_theta)"
   ]
  },
  {
   "cell_type": "markdown",
   "metadata": {},
   "source": [
    "# Zad.\n",
    "Wykonaj regresje powyższym sposobem na danych life_satisfaction.csv oraz narysuj wykres:"
   ]
  },
  {
   "cell_type": "code",
   "execution_count": null,
   "metadata": {
    "collapsed": true
   },
   "outputs": [],
   "source": []
  },
  {
   "cell_type": "markdown",
   "metadata": {},
   "source": [
    "## Ciekwaostka\n",
    "\n",
    "Jak można znaleźć pochodne czaskowe poniższej funkcji w odniesieniu do a i b?\n"
   ]
  },
  {
   "cell_type": "code",
   "execution_count": 86,
   "metadata": {},
   "outputs": [
    {
     "data": {
      "text/plain": [
       "-0.21253923284754914"
      ]
     },
     "execution_count": 86,
     "metadata": {},
     "output_type": "execute_result"
    }
   ],
   "source": [
    "def my_func(a, b):\n",
    "    z = 0\n",
    "    for i in range(100):\n",
    "        z = a * np.cos(z + i) + z * np.sin(b - i)\n",
    "    return z\n",
    "\n",
    "my_func(0.2, 0.3)"
   ]
  },
  {
   "cell_type": "code",
   "execution_count": 87,
   "metadata": {},
   "outputs": [
    {
     "name": "stdout",
     "output_type": "stream",
     "text": [
      "-0.212537\n",
      "[-1.1388494, 0.19671395]\n"
     ]
    }
   ],
   "source": [
    "tf.reset_default_graph()\n",
    "\n",
    "a = tf.Variable(0.2, name=\"a\")\n",
    "b = tf.Variable(0.3, name=\"b\")\n",
    "z = tf.constant(0.0, name=\"z0\")\n",
    "for i in range(100):\n",
    "    z = a * tf.cos(z + i) + z * tf.sin(b - i)\n",
    "\n",
    "grads = tf.gradients(z, [a, b])\n",
    "init = tf.global_variables_initializer()\n",
    "\n",
    "with tf.Session() as sess:\n",
    "    init.run()\n",
    "    print(z.eval())\n",
    "    print(sess.run(grads))"
   ]
  },
  {
   "cell_type": "markdown",
   "metadata": {},
   "source": [
    "## Gradient Descent Optimizer\n",
    "\n",
    "Możemy również użyć wbudowanej funkcji do optymalizacji\n",
    "\n",
    "```python\n",
    "optimizer = tf.train.GradientDescentOptimizer(learning_rate=learning_rate)\n",
    "training_op = optimizer.minimize(mse)\n",
    "```"
   ]
  },
  {
   "cell_type": "code",
   "execution_count": null,
   "metadata": {},
   "outputs": [],
   "source": [
    "tf.reset_default_graph()\n",
    "\n",
    "n_epochs = 1000\n",
    "learning_rate = 0.01\n",
    "\n",
    "X = tf.constant(housing_data_plus_bias, dtype=tf.float32, name=\"X\")\n",
    "y = tf.constant(housing.target.reshape(-1, 1), dtype=tf.float32, name=\"y\")\n",
    "theta = tf.Variable(tf.random_uniform([n + 1, 1], -1.0, 1.0, seed=42), name=\"theta\")\n",
    "y_pred = tf.matmul(X, theta, name=\"predictions\")\n",
    "error = y_pred - y\n",
    "mse = tf.reduce_mean(tf.square(error), name=\"mse\")\n",
    "\n",
    "optimizer = tf.train.GradientDescentOptimizer(learning_rate=learning_rate)\n",
    "training_op = optimizer.minimize(mse)\n",
    "\n",
    "\n",
    "init = tf.global_variables_initializer()\n",
    "\n",
    "with tf.Session() as sess:\n",
    "    sess.run(init)\n",
    "\n",
    "    for epoch in range(n_epochs):\n",
    "        if epoch % 100 == 0:\n",
    "            print(\"Epoch\", epoch, \"MSE =\", mse.eval())\n",
    "        sess.run(training_op)\n",
    "    \n",
    "    best_theta = theta.eval()\n",
    "\n",
    "print(\"Best theta:\")\n",
    "print(best_theta)"
   ]
  },
  {
   "cell_type": "markdown",
   "metadata": {},
   "source": [
    "Jest wiele różnych metod optymalizacji"
   ]
  },
  {
   "cell_type": "code",
   "execution_count": null,
   "metadata": {
    "collapsed": true
   },
   "outputs": [],
   "source": [
    "tf.reset_default_graph()\n",
    "\n",
    "n_epochs = 1000\n",
    "learning_rate = 0.01\n",
    "\n",
    "X = tf.constant(scaled_housing_data_plus_bias, dtype=tf.float32, name=\"X\")\n",
    "y = tf.constant(housing.target.reshape(-1, 1), dtype=tf.float32, name=\"y\")\n",
    "theta = tf.Variable(tf.random_uniform([n + 1, 1], -1.0, 1.0, seed=42), name=\"theta\")\n",
    "y_pred = tf.matmul(X, theta, name=\"predictions\")\n",
    "error = y_pred - y\n",
    "mse = tf.reduce_mean(tf.square(error), name=\"mse\")\n",
    "\n",
    "\n",
    "optimizer = tf.train.MomentumOptimizer(learning_rate=learning_rate, momentum=0.9)\n",
    "training_op = optimizer.minimize(mse)\n",
    "\n",
    "init = tf.global_variables_initializer()\n",
    "\n",
    "with tf.Session() as sess:\n",
    "    sess.run(init)\n",
    "\n",
    "    for epoch in range(n_epochs):\n",
    "        sess.run(training_op)\n",
    "    \n",
    "    best_theta = theta.eval()\n",
    "\n",
    "print(\"Best theta:\")\n",
    "print(best_theta)"
   ]
  },
  {
   "cell_type": "markdown",
   "metadata": {
    "collapsed": true
   },
   "source": [
    "# Zad.\n",
    "Wykonaj regresje powyższym sposobem na danych life_satisfaction.csv oraz narysuj wykres:"
   ]
  },
  {
   "cell_type": "code",
   "execution_count": null,
   "metadata": {
    "collapsed": true
   },
   "outputs": [],
   "source": []
  },
  {
   "cell_type": "markdown",
   "metadata": {},
   "source": [
    "# Warstwa typu placeholder\n",
    "Warstwa typu placeholder pozwala na dynamiczne dostarczanie danych"
   ]
  },
  {
   "cell_type": "code",
   "execution_count": null,
   "metadata": {
    "collapsed": true
   },
   "outputs": [],
   "source": [
    "tf.reset_default_graph()\n",
    "\n",
    "A = tf.placeholder(tf.float32, shape=(None, 3))\n",
    "B = A + 5\n",
    "with tf.Session() as sess:\n",
    "    B_val_1 = B.eval(feed_dict={A: [[1, 2, 3]]})\n",
    "    B_val_2 = B.eval(feed_dict={A: [[4, 5, 6], [7, 8, 9]]})\n",
    "\n",
    "print(B_val_1)\n",
    "print(B_val_2)"
   ]
  },
  {
   "cell_type": "markdown",
   "metadata": {
    "collapsed": true
   },
   "source": [
    "W naszym przypadku mamy:"
   ]
  },
  {
   "cell_type": "code",
   "execution_count": 95,
   "metadata": {
    "collapsed": true
   },
   "outputs": [],
   "source": [
    "tf.reset_default_graph()\n",
    "\n",
    "n_epochs = 1000\n",
    "learning_rate = 0.01\n",
    "\n",
    "X = tf.placeholder(tf.float32, shape=(None, n + 1), name=\"X\")\n",
    "y = tf.placeholder(tf.float32, shape=(None, 1), name=\"y\")\n",
    "\n",
    "theta = tf.Variable(tf.random_uniform([n + 1, 1], -1.0, 1.0, seed=42), name=\"theta\")\n",
    "y_pred = tf.matmul(X, theta, name=\"predictions\")\n",
    "error = y_pred - y\n",
    "mse = tf.reduce_mean(tf.square(error), name=\"mse\")\n",
    "optimizer = tf.train.GradientDescentOptimizer(learning_rate=learning_rate)\n",
    "training_op = optimizer.minimize(mse)\n",
    "\n",
    "init = tf.global_variables_initializer()"
   ]
  },
  {
   "cell_type": "code",
   "execution_count": 97,
   "metadata": {},
   "outputs": [
    {
     "name": "stdout",
     "output_type": "stream",
     "text": [
      "Best theta:\n",
      "[[ 2.07001591]\n",
      " [ 0.82045609]\n",
      " [ 0.1173173 ]\n",
      " [-0.22739051]\n",
      " [ 0.31134021]\n",
      " [ 0.00353193]\n",
      " [-0.01126994]\n",
      " [-0.91643935]\n",
      " [-0.87950081]]\n"
     ]
    }
   ],
   "source": [
    "n_epochs = 10\n",
    "batch_size = 100\n",
    "n_batches = int(np.ceil(m / batch_size))\n",
    "\n",
    "\n",
    "def fetch_batch(epoch, batch_index, batch_size):\n",
    "    np.random.seed(epoch * n_batches + batch_index)  \n",
    "    indices = np.random.randint(m, size=batch_size)  \n",
    "    X_batch = housing_data_plus_bias[indices] \n",
    "    y_batch = housing.target.reshape(-1, 1)[indices] \n",
    "    return X_batch, y_batch\n",
    "\n",
    "saver = tf.train.Saver()\n",
    "with tf.Session() as sess:\n",
    "    sess.run(init)\n",
    "\n",
    "    for epoch in range(n_epochs):\n",
    "        for batch_index in range(n_batches):\n",
    "            X_batch, y_batch = fetch_batch(epoch, batch_index, batch_size)\n",
    "            sess.run(training_op, feed_dict={X: X_batch, y: y_batch})\n",
    "\n",
    "    best_theta = theta.eval()\n",
    "    save_path = saver.save(sess, \"/tmp/my_model_final.ckpt\")\n",
    "    \n",
    "print(\"Best theta:\")\n",
    "print(best_theta)    "
   ]
  },
  {
   "cell_type": "code",
   "execution_count": 98,
   "metadata": {},
   "outputs": [
    {
     "name": "stdout",
     "output_type": "stream",
     "text": [
      "INFO:tensorflow:Restoring parameters from /tmp/my_model_final.ckpt\n"
     ]
    }
   ],
   "source": [
    "with tf.Session() as sess:\n",
    "    saver.restore(sess, \"/tmp/my_model_final.ckpt\")\n",
    "    best_theta_restored = theta.eval() "
   ]
  },
  {
   "cell_type": "code",
   "execution_count": 99,
   "metadata": {},
   "outputs": [
    {
     "name": "stdout",
     "output_type": "stream",
     "text": [
      "[[ 2.07001591]\n",
      " [ 0.82045609]\n",
      " [ 0.1173173 ]\n",
      " [-0.22739051]\n",
      " [ 0.31134021]\n",
      " [ 0.00353193]\n",
      " [-0.01126994]\n",
      " [-0.91643935]\n",
      " [-0.87950081]]\n"
     ]
    }
   ],
   "source": [
    "print(best_theta_restored)"
   ]
  },
  {
   "cell_type": "markdown",
   "metadata": {
    "collapsed": true
   },
   "source": [
    "# Zad.\n",
    "Wykonaj regresje powyższym sposobem na danych life_satisfaction.csv oraz narysuj wykres:"
   ]
  },
  {
   "cell_type": "code",
   "execution_count": null,
   "metadata": {
    "collapsed": true
   },
   "outputs": [],
   "source": []
  },
  {
   "cell_type": "markdown",
   "metadata": {},
   "source": [
    "# Zbudujmy prostą sieć neuronową"
   ]
  },
  {
   "cell_type": "markdown",
   "metadata": {},
   "source": [
    "Wykorzystamy dane w kształcie księżyców"
   ]
  },
  {
   "cell_type": "code",
   "execution_count": 101,
   "metadata": {
    "collapsed": true
   },
   "outputs": [],
   "source": [
    "import sklearn.datasets\n",
    "data_X, data_y = sklearn.datasets.make_moons(n_samples=1000, noise=.05)"
   ]
  },
  {
   "cell_type": "markdown",
   "metadata": {},
   "source": [
    "Najprostszym sposobem nauczenia MLP za pomocą TensorFlow jest wykorzystanie API wysokiego poziomu **TF.Learn**, który jest dość podobny do API Scikit-Learn. \n",
    "\n",
    "Klasa DNNClassifier ułatwia nauczanie głębokiej sieci neuronowej z dowolną liczbą ukrytych warstw i warstwą wyjściową softmax. \n",
    "\n",
    "Na przykład poniższy kod uczy DNN do klasyfikacji z dwiema ukrytymi warstwami (jedną z 300 neuronami, a drugą ze 100 neuronami) i warstwą wyjściową softmax z 10 neuronami:"
   ]
  },
  {
   "cell_type": "code",
   "execution_count": 102,
   "metadata": {},
   "outputs": [
    {
     "name": "stdout",
     "output_type": "stream",
     "text": [
      "INFO:tensorflow:Using default config.\n",
      "WARNING:tensorflow:Using temporary folder as model directory: C:\\Users\\przem85\\AppData\\Local\\Temp\\tmpoga7q041\n",
      "INFO:tensorflow:Using config: {'_save_checkpoints_steps': None, '_evaluation_master': '', '_num_ps_replicas': 0, '_task_type': None, '_session_config': None, '_is_chief': True, '_task_id': 0, '_tf_random_seed': None, '_log_step_count_steps': 100, '_keep_checkpoint_max': 5, '_save_checkpoints_secs': 600, '_environment': 'local', '_cluster_spec': <tensorflow.python.training.server_lib.ClusterSpec object at 0x0000020DD892A908>, '_master': '', '_tf_config': gpu_options {\n",
      "  per_process_gpu_memory_fraction: 1\n",
      "}\n",
      ", '_num_worker_replicas': 0, '_keep_checkpoint_every_n_hours': 10000, '_save_summary_steps': 100, '_model_dir': 'C:\\\\Users\\\\przem85\\\\AppData\\\\Local\\\\Temp\\\\tmpoga7q041'}\n",
      "WARNING:tensorflow:From <ipython-input-102-5805a979ac18>:6: calling BaseEstimator.fit (from tensorflow.contrib.learn.python.learn.estimators.estimator) with batch_size is deprecated and will be removed after 2016-12-01.\n",
      "Instructions for updating:\n",
      "Estimator is decoupled from Scikit Learn interface by moving into\n",
      "separate class SKCompat. Arguments x, y and batch_size are only\n",
      "available in the SKCompat class, Estimator will only accept input_fn.\n",
      "Example conversion:\n",
      "  est = Estimator(...) -> est = SKCompat(Estimator(...))\n",
      "WARNING:tensorflow:From <ipython-input-102-5805a979ac18>:6: calling BaseEstimator.fit (from tensorflow.contrib.learn.python.learn.estimators.estimator) with x is deprecated and will be removed after 2016-12-01.\n",
      "Instructions for updating:\n",
      "Estimator is decoupled from Scikit Learn interface by moving into\n",
      "separate class SKCompat. Arguments x, y and batch_size are only\n",
      "available in the SKCompat class, Estimator will only accept input_fn.\n",
      "Example conversion:\n",
      "  est = Estimator(...) -> est = SKCompat(Estimator(...))\n",
      "WARNING:tensorflow:From <ipython-input-102-5805a979ac18>:6: calling BaseEstimator.fit (from tensorflow.contrib.learn.python.learn.estimators.estimator) with y is deprecated and will be removed after 2016-12-01.\n",
      "Instructions for updating:\n",
      "Estimator is decoupled from Scikit Learn interface by moving into\n",
      "separate class SKCompat. Arguments x, y and batch_size are only\n",
      "available in the SKCompat class, Estimator will only accept input_fn.\n",
      "Example conversion:\n",
      "  est = Estimator(...) -> est = SKCompat(Estimator(...))\n",
      "WARNING:tensorflow:float64 is not supported by many models, consider casting to float32.\n",
      "WARNING:tensorflow:From C:\\Users\\przem85\\AppData\\Local\\conda\\conda\\envs\\tensorflow\\lib\\site-packages\\tensorflow\\contrib\\learn\\python\\learn\\estimators\\dnn.py:192: get_global_step (from tensorflow.contrib.framework.python.ops.variables) is deprecated and will be removed in a future version.\n",
      "Instructions for updating:\n",
      "Please switch to tf.train.get_global_step\n",
      "INFO:tensorflow:Create CheckpointSaverHook.\n",
      "INFO:tensorflow:Saving checkpoints for 1 into C:\\Users\\przem85\\AppData\\Local\\Temp\\tmpoga7q041\\model.ckpt.\n",
      "INFO:tensorflow:step = 1, loss = 2.33415\n",
      "INFO:tensorflow:global_step/sec: 397.346\n",
      "INFO:tensorflow:step = 101, loss = 0.207209 (0.261 sec)\n",
      "INFO:tensorflow:global_step/sec: 422.603\n",
      "INFO:tensorflow:step = 201, loss = 0.121151 (0.230 sec)\n",
      "INFO:tensorflow:global_step/sec: 424.401\n",
      "INFO:tensorflow:step = 301, loss = 0.0751764 (0.237 sec)\n",
      "INFO:tensorflow:global_step/sec: 420.817\n",
      "INFO:tensorflow:step = 401, loss = 0.0366008 (0.237 sec)\n",
      "INFO:tensorflow:global_step/sec: 405.425\n",
      "INFO:tensorflow:step = 501, loss = 0.038142 (0.247 sec)\n",
      "INFO:tensorflow:global_step/sec: 429.889\n",
      "INFO:tensorflow:step = 601, loss = 0.00894693 (0.234 sec)\n",
      "INFO:tensorflow:global_step/sec: 422.601\n",
      "INFO:tensorflow:step = 701, loss = 0.00505226 (0.236 sec)\n",
      "INFO:tensorflow:global_step/sec: 429.887\n",
      "INFO:tensorflow:step = 801, loss = 0.00288534 (0.233 sec)\n",
      "INFO:tensorflow:global_step/sec: 405.424\n",
      "INFO:tensorflow:step = 901, loss = 0.00427873 (0.249 sec)\n",
      "INFO:tensorflow:global_step/sec: 431.75\n",
      "INFO:tensorflow:step = 1001, loss = 0.00598491 (0.231 sec)\n",
      "INFO:tensorflow:global_step/sec: 412.124\n",
      "INFO:tensorflow:step = 1101, loss = 0.00239675 (0.243 sec)\n",
      "INFO:tensorflow:global_step/sec: 417.298\n",
      "INFO:tensorflow:step = 1201, loss = 0.00140298 (0.239 sec)\n",
      "INFO:tensorflow:global_step/sec: 428.042\n",
      "INFO:tensorflow:step = 1301, loss = 0.00295205 (0.236 sec)\n",
      "INFO:tensorflow:global_step/sec: 402.152\n",
      "INFO:tensorflow:step = 1401, loss = 0.0014889 (0.252 sec)\n",
      "INFO:tensorflow:global_step/sec: 398.937\n",
      "INFO:tensorflow:step = 1501, loss = 0.00147934 (0.249 sec)\n",
      "INFO:tensorflow:global_step/sec: 376.354\n",
      "INFO:tensorflow:step = 1601, loss = 0.0019783 (0.264 sec)\n",
      "INFO:tensorflow:global_step/sec: 413.836\n",
      "INFO:tensorflow:step = 1701, loss = 0.00191677 (0.242 sec)\n",
      "INFO:tensorflow:global_step/sec: 405.423\n",
      "INFO:tensorflow:step = 1801, loss = 0.00122734 (0.248 sec)\n",
      "INFO:tensorflow:global_step/sec: 373.523\n",
      "INFO:tensorflow:step = 1901, loss = 0.000971739 (0.268 sec)\n",
      "INFO:tensorflow:global_step/sec: 413.846\n",
      "INFO:tensorflow:step = 2001, loss = 0.00200561 (0.254 sec)\n",
      "INFO:tensorflow:global_step/sec: 383.596\n",
      "INFO:tensorflow:step = 2101, loss = 0.0008571 (0.248 sec)\n",
      "INFO:tensorflow:global_step/sec: 437.43\n",
      "INFO:tensorflow:step = 2201, loss = 0.00126603 (0.230 sec)\n",
      "INFO:tensorflow:global_step/sec: 400.538\n",
      "INFO:tensorflow:step = 2301, loss = 0.00114214 (0.248 sec)\n",
      "INFO:tensorflow:global_step/sec: 386.565\n",
      "INFO:tensorflow:step = 2401, loss = 0.000424342 (0.259 sec)\n",
      "INFO:tensorflow:global_step/sec: 429.882\n",
      "INFO:tensorflow:step = 2501, loss = 0.00139831 (0.234 sec)\n",
      "INFO:tensorflow:global_step/sec: 379.222\n",
      "INFO:tensorflow:step = 2601, loss = 0.00217507 (0.264 sec)\n",
      "INFO:tensorflow:global_step/sec: 412.122\n",
      "INFO:tensorflow:step = 2701, loss = 0.000556518 (0.244 sec)\n",
      "INFO:tensorflow:global_step/sec: 439.357\n",
      "INFO:tensorflow:step = 2801, loss = 0.00156624 (0.227 sec)\n",
      "INFO:tensorflow:global_step/sec: 385.06\n",
      "INFO:tensorflow:step = 2901, loss = 0.000880983 (0.260 sec)\n",
      "INFO:tensorflow:global_step/sec: 419.069\n",
      "INFO:tensorflow:step = 3001, loss = 0.000513878 (0.238 sec)\n",
      "INFO:tensorflow:global_step/sec: 412.124\n",
      "INFO:tensorflow:step = 3101, loss = 0.000374778 (0.245 sec)\n",
      "INFO:tensorflow:global_step/sec: 426.214\n",
      "INFO:tensorflow:step = 3201, loss = 0.000944243 (0.233 sec)\n",
      "INFO:tensorflow:global_step/sec: 431.75\n",
      "INFO:tensorflow:step = 3301, loss = 0.00130796 (0.232 sec)\n",
      "INFO:tensorflow:global_step/sec: 366.668\n",
      "INFO:tensorflow:step = 3401, loss = 0.000497826 (0.275 sec)\n",
      "INFO:tensorflow:global_step/sec: 360.05\n",
      "INFO:tensorflow:step = 3501, loss = 0.000542224 (0.278 sec)\n",
      "INFO:tensorflow:global_step/sec: 331.34\n",
      "INFO:tensorflow:step = 3601, loss = 0.000370728 (0.303 sec)\n",
      "INFO:tensorflow:global_step/sec: 349.948\n",
      "INFO:tensorflow:step = 3701, loss = 0.000683257 (0.285 sec)\n",
      "INFO:tensorflow:global_step/sec: 315.614\n",
      "INFO:tensorflow:step = 3801, loss = 0.000177141 (0.316 sec)\n",
      "INFO:tensorflow:global_step/sec: 352.417\n",
      "INFO:tensorflow:step = 3901, loss = 0.000400462 (0.284 sec)\n",
      "INFO:tensorflow:global_step/sec: 308.773\n",
      "INFO:tensorflow:step = 4001, loss = 0.000323469 (0.326 sec)\n",
      "INFO:tensorflow:global_step/sec: 429.891\n",
      "INFO:tensorflow:step = 4101, loss = 0.000227212 (0.230 sec)\n",
      "INFO:tensorflow:global_step/sec: 385.073\n",
      "INFO:tensorflow:step = 4201, loss = 0.000204797 (0.260 sec)\n",
      "INFO:tensorflow:global_step/sec: 429.888\n",
      "INFO:tensorflow:step = 4301, loss = 0.000255698 (0.234 sec)\n",
      "INFO:tensorflow:global_step/sec: 428.044\n",
      "INFO:tensorflow:step = 4401, loss = 0.00164087 (0.233 sec)\n",
      "INFO:tensorflow:global_step/sec: 443.262\n",
      "INFO:tensorflow:step = 4501, loss = 0.000252154 (0.227 sec)\n",
      "INFO:tensorflow:global_step/sec: 386.566\n",
      "INFO:tensorflow:step = 4601, loss = 0.00018531 (0.258 sec)\n",
      "INFO:tensorflow:global_step/sec: 422.603\n",
      "INFO:tensorflow:step = 4701, loss = 0.0002426 (0.239 sec)\n",
      "INFO:tensorflow:global_step/sec: 405.422\n",
      "INFO:tensorflow:step = 4801, loss = 0.000497127 (0.246 sec)\n",
      "INFO:tensorflow:global_step/sec: 439.356\n",
      "INFO:tensorflow:step = 4901, loss = 0.000397425 (0.229 sec)\n",
      "INFO:tensorflow:global_step/sec: 433.627\n",
      "INFO:tensorflow:step = 5001, loss = 0.000163173 (0.231 sec)\n",
      "INFO:tensorflow:global_step/sec: 407.078\n",
      "INFO:tensorflow:step = 5101, loss = 0.00103811 (0.245 sec)\n",
      "INFO:tensorflow:global_step/sec: 408.745\n",
      "INFO:tensorflow:step = 5201, loss = 0.000165985 (0.247 sec)\n"
     ]
    },
    {
     "name": "stdout",
     "output_type": "stream",
     "text": [
      "INFO:tensorflow:global_step/sec: 417.298\n",
      "INFO:tensorflow:step = 5301, loss = 0.000225699 (0.238 sec)\n",
      "INFO:tensorflow:global_step/sec: 424.397\n",
      "INFO:tensorflow:step = 5401, loss = 0.000195054 (0.235 sec)\n",
      "INFO:tensorflow:global_step/sec: 443.266\n",
      "INFO:tensorflow:step = 5501, loss = 8.04274e-05 (0.226 sec)\n",
      "INFO:tensorflow:global_step/sec: 447.238\n",
      "INFO:tensorflow:step = 5601, loss = 0.000197051 (0.225 sec)\n",
      "INFO:tensorflow:global_step/sec: 451.279\n",
      "INFO:tensorflow:step = 5701, loss = 0.000139565 (0.221 sec)\n",
      "INFO:tensorflow:global_step/sec: 449.258\n",
      "INFO:tensorflow:step = 5801, loss = 0.00023838 (0.224 sec)\n",
      "INFO:tensorflow:global_step/sec: 389.584\n",
      "INFO:tensorflow:step = 5901, loss = 0.000123051 (0.261 sec)\n",
      "INFO:tensorflow:global_step/sec: 417.3\n",
      "INFO:tensorflow:step = 6001, loss = 0.000183859 (0.236 sec)\n",
      "INFO:tensorflow:global_step/sec: 385.073\n",
      "INFO:tensorflow:step = 6101, loss = 0.000134788 (0.262 sec)\n",
      "INFO:tensorflow:global_step/sec: 420.819\n",
      "INFO:tensorflow:step = 6201, loss = 0.000148669 (0.235 sec)\n",
      "INFO:tensorflow:global_step/sec: 368.019\n",
      "INFO:tensorflow:step = 6301, loss = 0.000498174 (0.274 sec)\n",
      "INFO:tensorflow:global_step/sec: 392.658\n",
      "INFO:tensorflow:step = 6401, loss = 0.000800169 (0.255 sec)\n",
      "INFO:tensorflow:global_step/sec: 410.428\n",
      "INFO:tensorflow:step = 6501, loss = 0.000120325 (0.243 sec)\n",
      "INFO:tensorflow:global_step/sec: 426.214\n",
      "INFO:tensorflow:step = 6601, loss = 0.000307776 (0.234 sec)\n",
      "INFO:tensorflow:global_step/sec: 437.43\n",
      "INFO:tensorflow:step = 6701, loss = 0.000420067 (0.230 sec)\n",
      "INFO:tensorflow:global_step/sec: 402.153\n",
      "INFO:tensorflow:step = 6801, loss = 0.000176995 (0.249 sec)\n",
      "INFO:tensorflow:global_step/sec: 417.276\n",
      "INFO:tensorflow:step = 6901, loss = 0.000181881 (0.240 sec)\n",
      "INFO:tensorflow:global_step/sec: 429.911\n",
      "INFO:tensorflow:step = 7001, loss = 0.000569893 (0.233 sec)\n",
      "INFO:tensorflow:global_step/sec: 431.749\n",
      "INFO:tensorflow:step = 7101, loss = 8.68721e-05 (0.231 sec)\n",
      "INFO:tensorflow:global_step/sec: 370.759\n",
      "INFO:tensorflow:step = 7201, loss = 0.000252769 (0.272 sec)\n",
      "INFO:tensorflow:global_step/sec: 419.049\n",
      "INFO:tensorflow:step = 7301, loss = 0.000252894 (0.239 sec)\n",
      "INFO:tensorflow:global_step/sec: 415.548\n",
      "INFO:tensorflow:step = 7401, loss = 8.31681e-05 (0.241 sec)\n",
      "INFO:tensorflow:global_step/sec: 410.439\n",
      "INFO:tensorflow:step = 7501, loss = 0.000105371 (0.247 sec)\n",
      "INFO:tensorflow:global_step/sec: 405.421\n",
      "INFO:tensorflow:step = 7601, loss = 0.000257007 (0.244 sec)\n",
      "INFO:tensorflow:global_step/sec: 445.243\n",
      "INFO:tensorflow:step = 7701, loss = 0.00012239 (0.224 sec)\n",
      "INFO:tensorflow:global_step/sec: 412.125\n",
      "INFO:tensorflow:step = 7801, loss = 0.00027345 (0.244 sec)\n",
      "INFO:tensorflow:global_step/sec: 455.405\n",
      "INFO:tensorflow:step = 7901, loss = 0.000343407 (0.219 sec)\n",
      "INFO:tensorflow:global_step/sec: 410.429\n",
      "INFO:tensorflow:step = 8001, loss = 0.000106236 (0.244 sec)\n",
      "INFO:tensorflow:global_step/sec: 424.4\n",
      "INFO:tensorflow:step = 8101, loss = 0.000254523 (0.236 sec)\n",
      "INFO:tensorflow:global_step/sec: 445.24\n",
      "INFO:tensorflow:step = 8201, loss = 0.00015812 (0.225 sec)\n",
      "INFO:tensorflow:global_step/sec: 412.123\n",
      "INFO:tensorflow:step = 8301, loss = 0.000237874 (0.243 sec)\n",
      "INFO:tensorflow:global_step/sec: 429.892\n",
      "INFO:tensorflow:step = 8401, loss = 0.000234891 (0.241 sec)\n",
      "INFO:tensorflow:global_step/sec: 415.559\n",
      "INFO:tensorflow:step = 8501, loss = 0.000316896 (0.232 sec)\n",
      "INFO:tensorflow:global_step/sec: 408.745\n",
      "INFO:tensorflow:step = 8601, loss = 4.70247e-05 (0.246 sec)\n",
      "INFO:tensorflow:global_step/sec: 417.296\n",
      "INFO:tensorflow:step = 8701, loss = 0.000798544 (0.240 sec)\n",
      "INFO:tensorflow:global_step/sec: 361.356\n",
      "INFO:tensorflow:step = 8801, loss = 4.89117e-05 (0.278 sec)\n",
      "INFO:tensorflow:global_step/sec: 400.537\n",
      "INFO:tensorflow:step = 8901, loss = 0.00021485 (0.255 sec)\n",
      "INFO:tensorflow:global_step/sec: 405.424\n",
      "INFO:tensorflow:step = 9001, loss = 0.000232284 (0.246 sec)\n",
      "INFO:tensorflow:global_step/sec: 380.664\n",
      "INFO:tensorflow:step = 9101, loss = 7.93559e-05 (0.259 sec)\n",
      "INFO:tensorflow:global_step/sec: 410.415\n",
      "INFO:tensorflow:step = 9201, loss = 0.000126394 (0.243 sec)\n",
      "INFO:tensorflow:global_step/sec: 443.273\n",
      "INFO:tensorflow:step = 9301, loss = 8.20827e-05 (0.225 sec)\n",
      "INFO:tensorflow:global_step/sec: 398.94\n",
      "INFO:tensorflow:step = 9401, loss = 0.000107196 (0.253 sec)\n",
      "INFO:tensorflow:global_step/sec: 422.602\n",
      "INFO:tensorflow:step = 9501, loss = 7.30836e-05 (0.236 sec)\n",
      "INFO:tensorflow:global_step/sec: 435.52\n",
      "INFO:tensorflow:step = 9601, loss = 0.00024704 (0.233 sec)\n",
      "INFO:tensorflow:global_step/sec: 426.213\n",
      "INFO:tensorflow:step = 9701, loss = 0.000164711 (0.232 sec)\n",
      "INFO:tensorflow:global_step/sec: 415.557\n",
      "INFO:tensorflow:step = 9801, loss = 5.42029e-05 (0.241 sec)\n",
      "INFO:tensorflow:global_step/sec: 445.24\n",
      "INFO:tensorflow:step = 9901, loss = 0.00027149 (0.226 sec)\n",
      "INFO:tensorflow:global_step/sec: 431.745\n",
      "INFO:tensorflow:step = 10001, loss = 7.03785e-05 (0.232 sec)\n",
      "INFO:tensorflow:global_step/sec: 420.827\n",
      "INFO:tensorflow:step = 10101, loss = 0.000242046 (0.237 sec)\n",
      "INFO:tensorflow:global_step/sec: 420.818\n",
      "INFO:tensorflow:step = 10201, loss = 6.80244e-05 (0.239 sec)\n",
      "INFO:tensorflow:global_step/sec: 403.782\n",
      "INFO:tensorflow:step = 10301, loss = 0.000278137 (0.248 sec)\n",
      "INFO:tensorflow:global_step/sec: 449.25\n",
      "INFO:tensorflow:step = 10401, loss = 8.31915e-05 (0.221 sec)\n",
      "INFO:tensorflow:global_step/sec: 417.299\n",
      "INFO:tensorflow:step = 10501, loss = 1.32342e-05 (0.240 sec)\n",
      "INFO:tensorflow:global_step/sec: 386.566\n",
      "INFO:tensorflow:step = 10601, loss = 0.000250921 (0.259 sec)\n",
      "INFO:tensorflow:global_step/sec: 376.353\n",
      "INFO:tensorflow:step = 10701, loss = 4.9518e-05 (0.276 sec)\n",
      "INFO:tensorflow:global_step/sec: 394.207\n",
      "INFO:tensorflow:step = 10801, loss = 0.000205782 (0.244 sec)\n",
      "INFO:tensorflow:global_step/sec: 365.327\n",
      "INFO:tensorflow:step = 10901, loss = 0.000338619 (0.277 sec)\n",
      "INFO:tensorflow:global_step/sec: 362.67\n",
      "INFO:tensorflow:step = 11001, loss = 0.000236728 (0.276 sec)\n",
      "INFO:tensorflow:global_step/sec: 391.111\n",
      "INFO:tensorflow:step = 11101, loss = 0.000211512 (0.257 sec)\n",
      "INFO:tensorflow:global_step/sec: 365.322\n",
      "INFO:tensorflow:step = 11201, loss = 0.000234735 (0.275 sec)\n",
      "INFO:tensorflow:global_step/sec: 347.511\n",
      "INFO:tensorflow:step = 11301, loss = 0.000138685 (0.285 sec)\n",
      "INFO:tensorflow:global_step/sec: 356.191\n",
      "INFO:tensorflow:step = 11401, loss = 8.6103e-05 (0.282 sec)\n",
      "INFO:tensorflow:global_step/sec: 304.069\n",
      "INFO:tensorflow:step = 11501, loss = 0.000395278 (0.327 sec)\n",
      "INFO:tensorflow:global_step/sec: 382.098\n",
      "INFO:tensorflow:step = 11601, loss = 0.000111722 (0.268 sec)\n",
      "INFO:tensorflow:global_step/sec: 364.015\n",
      "INFO:tensorflow:step = 11701, loss = 5.27946e-05 (0.269 sec)\n",
      "INFO:tensorflow:global_step/sec: 372.122\n",
      "INFO:tensorflow:step = 11801, loss = 6.29273e-05 (0.270 sec)\n",
      "INFO:tensorflow:global_step/sec: 382.145\n",
      "INFO:tensorflow:step = 11901, loss = 0.000103949 (0.262 sec)\n",
      "INFO:tensorflow:global_step/sec: 383.593\n",
      "INFO:tensorflow:step = 12001, loss = 8.52831e-05 (0.264 sec)\n",
      "INFO:tensorflow:global_step/sec: 398.926\n",
      "INFO:tensorflow:step = 12101, loss = 8.12842e-05 (0.251 sec)\n",
      "INFO:tensorflow:global_step/sec: 413.842\n",
      "INFO:tensorflow:step = 12201, loss = 0.000118601 (0.238 sec)\n",
      "INFO:tensorflow:global_step/sec: 428.046\n",
      "INFO:tensorflow:step = 12301, loss = 0.000224416 (0.236 sec)\n",
      "INFO:tensorflow:global_step/sec: 338.082\n",
      "INFO:tensorflow:step = 12401, loss = 0.000137155 (0.295 sec)\n",
      "INFO:tensorflow:global_step/sec: 403.781\n",
      "INFO:tensorflow:step = 12501, loss = 0.000349394 (0.249 sec)\n",
      "INFO:tensorflow:global_step/sec: 374.94\n",
      "INFO:tensorflow:step = 12601, loss = 0.000106344 (0.266 sec)\n",
      "INFO:tensorflow:global_step/sec: 388.068\n",
      "INFO:tensorflow:step = 12701, loss = 0.000143875 (0.260 sec)\n",
      "INFO:tensorflow:global_step/sec: 386.567\n",
      "INFO:tensorflow:step = 12801, loss = 0.000220042 (0.257 sec)\n",
      "INFO:tensorflow:global_step/sec: 391.113\n",
      "INFO:tensorflow:step = 12901, loss = 0.00014929 (0.256 sec)\n",
      "INFO:tensorflow:global_step/sec: 391.114\n",
      "INFO:tensorflow:step = 13001, loss = 0.000105512 (0.258 sec)\n",
      "INFO:tensorflow:global_step/sec: 320.688\n",
      "INFO:tensorflow:step = 13101, loss = 0.000102275 (0.309 sec)\n",
      "INFO:tensorflow:global_step/sec: 395.77\n",
      "INFO:tensorflow:step = 13201, loss = 8.52622e-05 (0.252 sec)\n",
      "INFO:tensorflow:global_step/sec: 395.77\n",
      "INFO:tensorflow:step = 13301, loss = 0.000365907 (0.256 sec)\n",
      "INFO:tensorflow:global_step/sec: 345.101\n"
     ]
    },
    {
     "name": "stdout",
     "output_type": "stream",
     "text": [
      "INFO:tensorflow:step = 13401, loss = 3.44799e-05 (0.291 sec)\n",
      "INFO:tensorflow:global_step/sec: 358.755\n",
      "INFO:tensorflow:step = 13501, loss = 0.000103344 (0.275 sec)\n",
      "INFO:tensorflow:global_step/sec: 402.142\n",
      "INFO:tensorflow:step = 13601, loss = 8.50163e-05 (0.250 sec)\n",
      "INFO:tensorflow:global_step/sec: 397.359\n",
      "INFO:tensorflow:step = 13701, loss = 3.8125e-05 (0.252 sec)\n",
      "INFO:tensorflow:global_step/sec: 420.819\n",
      "INFO:tensorflow:step = 13801, loss = 0.000284931 (0.239 sec)\n",
      "INFO:tensorflow:global_step/sec: 388.07\n",
      "INFO:tensorflow:step = 13901, loss = 4.95352e-05 (0.259 sec)\n",
      "INFO:tensorflow:global_step/sec: 391.115\n",
      "INFO:tensorflow:step = 14001, loss = 5.00989e-05 (0.254 sec)\n",
      "INFO:tensorflow:global_step/sec: 368.021\n",
      "INFO:tensorflow:step = 14101, loss = 4.73346e-05 (0.271 sec)\n",
      "INFO:tensorflow:global_step/sec: 429.889\n",
      "INFO:tensorflow:step = 14201, loss = 4.42539e-05 (0.235 sec)\n",
      "INFO:tensorflow:global_step/sec: 343.911\n",
      "INFO:tensorflow:step = 14301, loss = 5.5443e-05 (0.291 sec)\n",
      "INFO:tensorflow:global_step/sec: 365.316\n",
      "INFO:tensorflow:step = 14401, loss = 0.000155195 (0.273 sec)\n",
      "INFO:tensorflow:global_step/sec: 412.138\n",
      "INFO:tensorflow:step = 14501, loss = 4.24064e-05 (0.242 sec)\n",
      "INFO:tensorflow:global_step/sec: 349.941\n",
      "INFO:tensorflow:step = 14601, loss = 2.48211e-05 (0.287 sec)\n",
      "INFO:tensorflow:global_step/sec: 347.508\n",
      "INFO:tensorflow:step = 14701, loss = 5.26614e-05 (0.289 sec)\n",
      "INFO:tensorflow:global_step/sec: 348.721\n",
      "INFO:tensorflow:step = 14801, loss = 8.77581e-05 (0.286 sec)\n",
      "INFO:tensorflow:global_step/sec: 403.78\n",
      "INFO:tensorflow:step = 14901, loss = 7.70495e-05 (0.248 sec)\n",
      "INFO:tensorflow:global_step/sec: 415.559\n",
      "INFO:tensorflow:step = 15001, loss = 3.70702e-05 (0.241 sec)\n",
      "INFO:tensorflow:global_step/sec: 445.244\n",
      "INFO:tensorflow:step = 15101, loss = 4.83264e-05 (0.225 sec)\n",
      "INFO:tensorflow:global_step/sec: 441.301\n",
      "INFO:tensorflow:step = 15201, loss = 6.92011e-05 (0.239 sec)\n",
      "INFO:tensorflow:global_step/sec: 320.688\n",
      "INFO:tensorflow:step = 15301, loss = 0.000177573 (0.300 sec)\n",
      "INFO:tensorflow:global_step/sec: 503.708\n",
      "INFO:tensorflow:step = 15401, loss = 2.94249e-05 (0.198 sec)\n",
      "INFO:tensorflow:global_step/sec: 530.5\n",
      "INFO:tensorflow:step = 15501, loss = 3.76594e-05 (0.188 sec)\n",
      "INFO:tensorflow:global_step/sec: 516.756\n",
      "INFO:tensorflow:step = 15601, loss = 7.40723e-05 (0.194 sec)\n",
      "INFO:tensorflow:global_step/sec: 484.146\n",
      "INFO:tensorflow:step = 15701, loss = 4.91575e-05 (0.209 sec)\n",
      "INFO:tensorflow:global_step/sec: 405.42\n",
      "INFO:tensorflow:step = 15801, loss = 9.79877e-05 (0.251 sec)\n",
      "INFO:tensorflow:global_step/sec: 298.605\n",
      "INFO:tensorflow:step = 15901, loss = 3.49716e-05 (0.332 sec)\n",
      "INFO:tensorflow:global_step/sec: 300.71\n",
      "INFO:tensorflow:step = 16001, loss = 0.000328497 (0.336 sec)\n",
      "INFO:tensorflow:global_step/sec: 361.359\n",
      "INFO:tensorflow:step = 16101, loss = 1.96439e-05 (0.272 sec)\n",
      "INFO:tensorflow:global_step/sec: 453.336\n",
      "INFO:tensorflow:step = 16201, loss = 0.000180073 (0.220 sec)\n",
      "INFO:tensorflow:global_step/sec: 424.401\n",
      "INFO:tensorflow:step = 16301, loss = 7.99201e-05 (0.237 sec)\n",
      "INFO:tensorflow:global_step/sec: 484.145\n",
      "INFO:tensorflow:step = 16401, loss = 9.001e-05 (0.206 sec)\n",
      "INFO:tensorflow:global_step/sec: 481.808\n",
      "INFO:tensorflow:step = 16501, loss = 3.88145e-05 (0.211 sec)\n",
      "INFO:tensorflow:global_step/sec: 363.992\n",
      "INFO:tensorflow:step = 16601, loss = 3.881e-05 (0.276 sec)\n",
      "INFO:tensorflow:global_step/sec: 308.774\n",
      "INFO:tensorflow:step = 16701, loss = 3.34385e-05 (0.330 sec)\n",
      "INFO:tensorflow:global_step/sec: 303.143\n",
      "INFO:tensorflow:step = 16801, loss = 2.80028e-05 (0.322 sec)\n",
      "INFO:tensorflow:global_step/sec: 300.404\n",
      "INFO:tensorflow:step = 16901, loss = 2.19546e-05 (0.338 sec)\n",
      "INFO:tensorflow:global_step/sec: 324.866\n",
      "INFO:tensorflow:step = 17001, loss = 3.77133e-05 (0.307 sec)\n",
      "INFO:tensorflow:global_step/sec: 309.732\n",
      "INFO:tensorflow:step = 17101, loss = 0.000122539 (0.317 sec)\n",
      "INFO:tensorflow:global_step/sec: 455.406\n",
      "INFO:tensorflow:step = 17201, loss = 0.000104404 (0.222 sec)\n",
      "INFO:tensorflow:global_step/sec: 320.689\n",
      "INFO:tensorflow:step = 17301, loss = 2.24335e-05 (0.311 sec)\n",
      "INFO:tensorflow:global_step/sec: 306.875\n",
      "INFO:tensorflow:step = 17401, loss = 6.2813e-05 (0.328 sec)\n",
      "INFO:tensorflow:global_step/sec: 374.94\n",
      "INFO:tensorflow:step = 17501, loss = 4.3068e-05 (0.266 sec)\n",
      "INFO:tensorflow:global_step/sec: 380.662\n",
      "INFO:tensorflow:step = 17601, loss = 3.77354e-05 (0.266 sec)\n",
      "INFO:tensorflow:global_step/sec: 325.929\n",
      "INFO:tensorflow:step = 17701, loss = 4.92662e-05 (0.303 sec)\n",
      "INFO:tensorflow:global_step/sec: 290.77\n",
      "INFO:tensorflow:step = 17801, loss = 2.0538e-05 (0.348 sec)\n",
      "INFO:tensorflow:global_step/sec: 457.495\n",
      "INFO:tensorflow:step = 17901, loss = 0.000156573 (0.217 sec)\n",
      "INFO:tensorflow:global_step/sec: 295.07\n",
      "INFO:tensorflow:step = 18001, loss = 4.26121e-05 (0.339 sec)\n",
      "INFO:tensorflow:global_step/sec: 323.812\n",
      "INFO:tensorflow:step = 18101, loss = 3.88041e-05 (0.307 sec)\n",
      "INFO:tensorflow:global_step/sec: 479.493\n",
      "INFO:tensorflow:step = 18201, loss = 0.000120761 (0.212 sec)\n",
      "INFO:tensorflow:global_step/sec: 477.196\n",
      "INFO:tensorflow:step = 18301, loss = 3.77099e-05 (0.208 sec)\n",
      "INFO:tensorflow:global_step/sec: 382.124\n",
      "INFO:tensorflow:step = 18401, loss = 5.89516e-05 (0.260 sec)\n",
      "INFO:tensorflow:global_step/sec: 431.746\n",
      "INFO:tensorflow:step = 18501, loss = 5.77638e-05 (0.232 sec)\n",
      "INFO:tensorflow:global_step/sec: 398.938\n",
      "INFO:tensorflow:step = 18601, loss = 5.46432e-05 (0.252 sec)\n",
      "INFO:tensorflow:global_step/sec: 451.286\n",
      "INFO:tensorflow:step = 18701, loss = 8.63314e-05 (0.221 sec)\n",
      "INFO:tensorflow:global_step/sec: 435.517\n",
      "INFO:tensorflow:step = 18801, loss = 2.97569e-05 (0.230 sec)\n",
      "INFO:tensorflow:global_step/sec: 374.942\n",
      "INFO:tensorflow:step = 18901, loss = 7.17654e-05 (0.267 sec)\n",
      "INFO:tensorflow:global_step/sec: 389.585\n",
      "INFO:tensorflow:step = 19001, loss = 4.2144e-05 (0.259 sec)\n",
      "INFO:tensorflow:global_step/sec: 365.327\n",
      "INFO:tensorflow:step = 19101, loss = 3.87394e-05 (0.272 sec)\n",
      "INFO:tensorflow:global_step/sec: 412.124\n",
      "INFO:tensorflow:step = 19201, loss = 9.37029e-05 (0.244 sec)\n",
      "INFO:tensorflow:global_step/sec: 276.443\n",
      "INFO:tensorflow:step = 19301, loss = 0.000103662 (0.361 sec)\n",
      "INFO:tensorflow:global_step/sec: 349.946\n",
      "INFO:tensorflow:step = 19401, loss = 6.16656e-05 (0.289 sec)\n",
      "INFO:tensorflow:global_step/sec: 271.754\n",
      "INFO:tensorflow:step = 19501, loss = 3.76704e-05 (0.367 sec)\n",
      "INFO:tensorflow:global_step/sec: 323.919\n",
      "INFO:tensorflow:step = 19601, loss = 4.73115e-05 (0.309 sec)\n",
      "INFO:tensorflow:global_step/sec: 389.609\n",
      "INFO:tensorflow:step = 19701, loss = 8.50861e-05 (0.256 sec)\n",
      "INFO:tensorflow:global_step/sec: 455.406\n",
      "INFO:tensorflow:step = 19801, loss = 0.000133069 (0.220 sec)\n",
      "INFO:tensorflow:global_step/sec: 433.623\n",
      "INFO:tensorflow:step = 19901, loss = 5.08849e-05 (0.233 sec)\n",
      "INFO:tensorflow:global_step/sec: 481.809\n",
      "INFO:tensorflow:step = 20001, loss = 0.000173178 (0.208 sec)\n",
      "INFO:tensorflow:global_step/sec: 429.889\n",
      "INFO:tensorflow:step = 20101, loss = 0.000138471 (0.232 sec)\n",
      "INFO:tensorflow:global_step/sec: 415.558\n",
      "INFO:tensorflow:step = 20201, loss = 0.000123488 (0.249 sec)\n",
      "INFO:tensorflow:global_step/sec: 422.604\n",
      "INFO:tensorflow:step = 20301, loss = 3.20583e-05 (0.229 sec)\n",
      "INFO:tensorflow:global_step/sec: 405.423\n",
      "INFO:tensorflow:step = 20401, loss = 0.000137123 (0.248 sec)\n",
      "INFO:tensorflow:global_step/sec: 474.923\n",
      "INFO:tensorflow:step = 20501, loss = 0.000153798 (0.209 sec)\n",
      "INFO:tensorflow:global_step/sec: 428.029\n",
      "INFO:tensorflow:step = 20601, loss = 2.86313e-05 (0.234 sec)\n",
      "INFO:tensorflow:global_step/sec: 484.164\n",
      "INFO:tensorflow:step = 20701, loss = 0.000109556 (0.208 sec)\n",
      "INFO:tensorflow:global_step/sec: 398.936\n",
      "INFO:tensorflow:step = 20801, loss = 3.6815e-05 (0.250 sec)\n",
      "INFO:tensorflow:global_step/sec: 361.016\n",
      "INFO:tensorflow:step = 20901, loss = 2.5528e-05 (0.278 sec)\n",
      "INFO:tensorflow:global_step/sec: 408.747\n",
      "INFO:tensorflow:step = 21001, loss = 0.00011046 (0.247 sec)\n",
      "INFO:tensorflow:global_step/sec: 385.072\n",
      "INFO:tensorflow:step = 21101, loss = 0.000126137 (0.257 sec)\n",
      "INFO:tensorflow:global_step/sec: 392.656\n",
      "INFO:tensorflow:step = 21201, loss = 6.81368e-05 (0.262 sec)\n",
      "INFO:tensorflow:global_step/sec: 383.594\n",
      "INFO:tensorflow:step = 21301, loss = 6.5726e-05 (0.254 sec)\n",
      "INFO:tensorflow:global_step/sec: 257.71\n",
      "INFO:tensorflow:step = 21401, loss = 0.000120617 (0.389 sec)\n"
     ]
    },
    {
     "name": "stdout",
     "output_type": "stream",
     "text": [
      "INFO:tensorflow:global_step/sec: 335.805\n",
      "INFO:tensorflow:step = 21501, loss = 0.000144276 (0.298 sec)\n",
      "INFO:tensorflow:global_step/sec: 329.154\n",
      "INFO:tensorflow:step = 21601, loss = 9.22654e-06 (0.305 sec)\n",
      "INFO:tensorflow:global_step/sec: 407.08\n",
      "INFO:tensorflow:step = 21701, loss = 3.64299e-05 (0.245 sec)\n",
      "INFO:tensorflow:global_step/sec: 419.05\n",
      "INFO:tensorflow:step = 21801, loss = 2.89953e-05 (0.244 sec)\n",
      "INFO:tensorflow:global_step/sec: 341.553\n",
      "INFO:tensorflow:step = 21901, loss = 3.20114e-05 (0.289 sec)\n",
      "INFO:tensorflow:global_step/sec: 374.94\n",
      "INFO:tensorflow:step = 22001, loss = 2.19647e-05 (0.264 sec)\n",
      "INFO:tensorflow:global_step/sec: 435.523\n",
      "INFO:tensorflow:step = 22101, loss = 9.69435e-05 (0.231 sec)\n",
      "INFO:tensorflow:global_step/sec: 461.731\n",
      "INFO:tensorflow:step = 22201, loss = 3.82988e-05 (0.218 sec)\n",
      "INFO:tensorflow:global_step/sec: 419.051\n",
      "INFO:tensorflow:step = 22301, loss = 1.58896e-05 (0.239 sec)\n",
      "INFO:tensorflow:global_step/sec: 477.194\n",
      "INFO:tensorflow:step = 22401, loss = 5.00574e-05 (0.215 sec)\n",
      "INFO:tensorflow:global_step/sec: 441.3\n",
      "INFO:tensorflow:step = 22501, loss = 8.90604e-05 (0.220 sec)\n",
      "INFO:tensorflow:global_step/sec: 474.917\n",
      "INFO:tensorflow:step = 22601, loss = 7.34789e-05 (0.213 sec)\n",
      "INFO:tensorflow:global_step/sec: 429.897\n",
      "INFO:tensorflow:step = 22701, loss = 3.24025e-05 (0.230 sec)\n",
      "INFO:tensorflow:global_step/sec: 457.492\n",
      "INFO:tensorflow:step = 22801, loss = 2.80932e-05 (0.221 sec)\n",
      "INFO:tensorflow:global_step/sec: 289.496\n",
      "INFO:tensorflow:step = 22901, loss = 2.11861e-05 (0.358 sec)\n",
      "INFO:tensorflow:global_step/sec: 306.889\n",
      "INFO:tensorflow:step = 23001, loss = 2.02107e-05 (0.315 sec)\n",
      "INFO:tensorflow:global_step/sec: 360.051\n",
      "INFO:tensorflow:step = 23101, loss = 7.68712e-05 (0.280 sec)\n",
      "INFO:tensorflow:global_step/sec: 285.771\n",
      "INFO:tensorflow:step = 23201, loss = 0.000126156 (0.347 sec)\n",
      "INFO:tensorflow:global_step/sec: 372.139\n",
      "INFO:tensorflow:step = 23301, loss = 3.01023e-05 (0.270 sec)\n",
      "INFO:tensorflow:global_step/sec: 373.539\n",
      "INFO:tensorflow:step = 23401, loss = 4.86289e-05 (0.267 sec)\n",
      "INFO:tensorflow:global_step/sec: 370.76\n",
      "INFO:tensorflow:step = 23501, loss = 2.64695e-05 (0.272 sec)\n",
      "INFO:tensorflow:global_step/sec: 363.993\n",
      "INFO:tensorflow:step = 23601, loss = 1.57301e-05 (0.273 sec)\n",
      "INFO:tensorflow:global_step/sec: 372.141\n",
      "INFO:tensorflow:step = 23701, loss = 4.18101e-05 (0.270 sec)\n",
      "INFO:tensorflow:global_step/sec: 379.217\n",
      "INFO:tensorflow:step = 23801, loss = 5.34996e-05 (0.263 sec)\n",
      "INFO:tensorflow:global_step/sec: 374.94\n",
      "INFO:tensorflow:step = 23901, loss = 0.000104209 (0.268 sec)\n",
      "INFO:tensorflow:global_step/sec: 405.422\n",
      "INFO:tensorflow:step = 24001, loss = 1.64233e-05 (0.247 sec)\n",
      "INFO:tensorflow:global_step/sec: 443.261\n",
      "INFO:tensorflow:step = 24101, loss = 3.6524e-05 (0.224 sec)\n",
      "INFO:tensorflow:global_step/sec: 455.408\n",
      "INFO:tensorflow:step = 24201, loss = 1.38851e-05 (0.221 sec)\n",
      "INFO:tensorflow:global_step/sec: 451.284\n",
      "INFO:tensorflow:step = 24301, loss = 0.000156453 (0.221 sec)\n",
      "INFO:tensorflow:global_step/sec: 457.495\n",
      "INFO:tensorflow:step = 24401, loss = 3.30565e-05 (0.219 sec)\n",
      "INFO:tensorflow:global_step/sec: 455.409\n",
      "INFO:tensorflow:step = 24501, loss = 0.000173735 (0.220 sec)\n",
      "INFO:tensorflow:global_step/sec: 413.834\n",
      "INFO:tensorflow:step = 24601, loss = 9.24477e-05 (0.243 sec)\n",
      "INFO:tensorflow:global_step/sec: 447.239\n",
      "INFO:tensorflow:step = 24701, loss = 2.45973e-05 (0.223 sec)\n",
      "INFO:tensorflow:global_step/sec: 463.878\n",
      "INFO:tensorflow:step = 24801, loss = 0.000135726 (0.217 sec)\n",
      "INFO:tensorflow:global_step/sec: 461.731\n",
      "INFO:tensorflow:step = 24901, loss = 5.83227e-05 (0.218 sec)\n",
      "INFO:tensorflow:global_step/sec: 451.286\n",
      "INFO:tensorflow:step = 25001, loss = 3.0446e-05 (0.221 sec)\n",
      "INFO:tensorflow:global_step/sec: 419.051\n",
      "INFO:tensorflow:step = 25101, loss = 3.31609e-05 (0.238 sec)\n",
      "INFO:tensorflow:global_step/sec: 459.602\n",
      "INFO:tensorflow:step = 25201, loss = 1.8164e-05 (0.219 sec)\n",
      "INFO:tensorflow:global_step/sec: 463.88\n",
      "INFO:tensorflow:step = 25301, loss = 0.000195292 (0.216 sec)\n",
      "INFO:tensorflow:global_step/sec: 455.405\n",
      "INFO:tensorflow:step = 25401, loss = 0.000103141 (0.220 sec)\n",
      "INFO:tensorflow:global_step/sec: 397.347\n",
      "INFO:tensorflow:step = 25501, loss = 1.67385e-05 (0.251 sec)\n",
      "INFO:tensorflow:global_step/sec: 431.748\n",
      "INFO:tensorflow:step = 25601, loss = 1.38826e-05 (0.232 sec)\n",
      "INFO:tensorflow:global_step/sec: 410.43\n",
      "INFO:tensorflow:step = 25701, loss = 1.83382e-05 (0.245 sec)\n",
      "INFO:tensorflow:global_step/sec: 433.626\n",
      "INFO:tensorflow:step = 25801, loss = 7.90582e-06 (0.230 sec)\n",
      "INFO:tensorflow:global_step/sec: 407.076\n",
      "INFO:tensorflow:step = 25901, loss = 2.55224e-05 (0.247 sec)\n",
      "INFO:tensorflow:global_step/sec: 373.537\n",
      "INFO:tensorflow:step = 26001, loss = 2.94616e-05 (0.267 sec)\n",
      "INFO:tensorflow:global_step/sec: 420.817\n",
      "INFO:tensorflow:step = 26101, loss = 6.31872e-05 (0.238 sec)\n",
      "INFO:tensorflow:global_step/sec: 413.835\n",
      "INFO:tensorflow:step = 26201, loss = 7.98585e-05 (0.241 sec)\n",
      "INFO:tensorflow:global_step/sec: 437.431\n",
      "INFO:tensorflow:step = 26301, loss = 4.68763e-05 (0.231 sec)\n",
      "INFO:tensorflow:global_step/sec: 439.355\n",
      "INFO:tensorflow:step = 26401, loss = 2.49945e-05 (0.226 sec)\n",
      "INFO:tensorflow:global_step/sec: 417.3\n",
      "INFO:tensorflow:step = 26501, loss = 0.000144205 (0.241 sec)\n",
      "INFO:tensorflow:global_step/sec: 439.357\n",
      "INFO:tensorflow:step = 26601, loss = 2.8821e-05 (0.229 sec)\n",
      "INFO:tensorflow:global_step/sec: 379.214\n",
      "INFO:tensorflow:step = 26701, loss = 3.38602e-05 (0.262 sec)\n",
      "INFO:tensorflow:global_step/sec: 312.648\n",
      "INFO:tensorflow:step = 26801, loss = 4.95811e-05 (0.320 sec)\n",
      "INFO:tensorflow:global_step/sec: 335.802\n",
      "INFO:tensorflow:step = 26901, loss = 3.29422e-05 (0.299 sec)\n",
      "INFO:tensorflow:global_step/sec: 339.196\n",
      "INFO:tensorflow:step = 27001, loss = 4.26859e-05 (0.298 sec)\n",
      "INFO:tensorflow:global_step/sec: 308.805\n",
      "INFO:tensorflow:step = 27101, loss = 1.59492e-05 (0.321 sec)\n",
      "INFO:tensorflow:global_step/sec: 426.211\n",
      "INFO:tensorflow:step = 27201, loss = 1.08951e-05 (0.234 sec)\n",
      "INFO:tensorflow:global_step/sec: 398.939\n",
      "INFO:tensorflow:step = 27301, loss = 2.03488e-05 (0.252 sec)\n",
      "INFO:tensorflow:global_step/sec: 346.297\n",
      "INFO:tensorflow:step = 27401, loss = 2.66998e-05 (0.293 sec)\n",
      "INFO:tensorflow:global_step/sec: 407.081\n",
      "INFO:tensorflow:step = 27501, loss = 2.85641e-05 (0.242 sec)\n",
      "INFO:tensorflow:global_step/sec: 459.603\n",
      "INFO:tensorflow:step = 27601, loss = 2.9843e-05 (0.220 sec)\n",
      "INFO:tensorflow:global_step/sec: 376.354\n",
      "INFO:tensorflow:step = 27701, loss = 9.66139e-05 (0.264 sec)\n",
      "INFO:tensorflow:global_step/sec: 400.539\n",
      "INFO:tensorflow:step = 27801, loss = 1.1353e-05 (0.250 sec)\n",
      "INFO:tensorflow:global_step/sec: 410.429\n",
      "INFO:tensorflow:step = 27901, loss = 7.06387e-05 (0.245 sec)\n",
      "INFO:tensorflow:global_step/sec: 415.557\n",
      "INFO:tensorflow:step = 28001, loss = 0.000128241 (0.242 sec)\n",
      "INFO:tensorflow:global_step/sec: 426.215\n",
      "INFO:tensorflow:step = 28101, loss = 3.72053e-05 (0.231 sec)\n",
      "INFO:tensorflow:global_step/sec: 443.262\n",
      "INFO:tensorflow:step = 28201, loss = 2.8001e-05 (0.229 sec)\n",
      "INFO:tensorflow:global_step/sec: 439.356\n",
      "INFO:tensorflow:step = 28301, loss = 3.24904e-05 (0.226 sec)\n",
      "INFO:tensorflow:global_step/sec: 357.472\n",
      "INFO:tensorflow:step = 28401, loss = 6.11929e-05 (0.282 sec)\n",
      "INFO:tensorflow:global_step/sec: 445.239\n",
      "INFO:tensorflow:step = 28501, loss = 7.15377e-05 (0.225 sec)\n",
      "INFO:tensorflow:global_step/sec: 437.432\n",
      "INFO:tensorflow:step = 28601, loss = 3.74433e-05 (0.228 sec)\n",
      "INFO:tensorflow:global_step/sec: 439.351\n",
      "INFO:tensorflow:step = 28701, loss = 3.0653e-05 (0.228 sec)\n",
      "INFO:tensorflow:global_step/sec: 395.775\n",
      "INFO:tensorflow:step = 28801, loss = 2.47498e-05 (0.254 sec)\n",
      "INFO:tensorflow:global_step/sec: 405.422\n",
      "INFO:tensorflow:step = 28901, loss = 5.98092e-05 (0.247 sec)\n",
      "INFO:tensorflow:global_step/sec: 431.748\n",
      "INFO:tensorflow:step = 29001, loss = 0.000130719 (0.231 sec)\n",
      "INFO:tensorflow:global_step/sec: 389.585\n",
      "INFO:tensorflow:step = 29101, loss = 4.41405e-05 (0.259 sec)\n",
      "INFO:tensorflow:global_step/sec: 428.043\n",
      "INFO:tensorflow:step = 29201, loss = 3.9479e-05 (0.232 sec)\n",
      "INFO:tensorflow:global_step/sec: 426.214\n",
      "INFO:tensorflow:step = 29301, loss = 3.66048e-05 (0.236 sec)\n",
      "INFO:tensorflow:global_step/sec: 403.782\n",
      "INFO:tensorflow:step = 29401, loss = 6.16107e-05 (0.254 sec)\n",
      "INFO:tensorflow:global_step/sec: 398.938\n",
      "INFO:tensorflow:step = 29501, loss = 1.79922e-05 (0.246 sec)\n"
     ]
    },
    {
     "name": "stdout",
     "output_type": "stream",
     "text": [
      "INFO:tensorflow:global_step/sec: 459.6\n",
      "INFO:tensorflow:step = 29601, loss = 1.86317e-05 (0.217 sec)\n",
      "INFO:tensorflow:global_step/sec: 397.347\n",
      "INFO:tensorflow:step = 29701, loss = 2.4959e-05 (0.256 sec)\n",
      "INFO:tensorflow:global_step/sec: 397.348\n",
      "INFO:tensorflow:step = 29801, loss = 2.60203e-05 (0.249 sec)\n",
      "INFO:tensorflow:global_step/sec: 391.113\n",
      "INFO:tensorflow:step = 29901, loss = 5.90728e-05 (0.254 sec)\n",
      "INFO:tensorflow:global_step/sec: 403.781\n",
      "INFO:tensorflow:step = 30001, loss = 2.14614e-05 (0.247 sec)\n",
      "INFO:tensorflow:global_step/sec: 412.125\n",
      "INFO:tensorflow:step = 30101, loss = 6.88266e-05 (0.245 sec)\n",
      "INFO:tensorflow:global_step/sec: 407.077\n",
      "INFO:tensorflow:step = 30201, loss = 6.48012e-06 (0.245 sec)\n",
      "INFO:tensorflow:global_step/sec: 379.209\n",
      "INFO:tensorflow:step = 30301, loss = 2.40528e-05 (0.264 sec)\n",
      "INFO:tensorflow:global_step/sec: 380.672\n",
      "INFO:tensorflow:step = 30401, loss = 7.44834e-05 (0.263 sec)\n",
      "INFO:tensorflow:global_step/sec: 386.567\n",
      "INFO:tensorflow:step = 30501, loss = 5.7814e-05 (0.259 sec)\n",
      "INFO:tensorflow:global_step/sec: 488.892\n",
      "INFO:tensorflow:step = 30601, loss = 8.69968e-06 (0.206 sec)\n",
      "INFO:tensorflow:global_step/sec: 459.603\n",
      "INFO:tensorflow:step = 30701, loss = 2.49321e-05 (0.219 sec)\n",
      "INFO:tensorflow:global_step/sec: 402.154\n",
      "INFO:tensorflow:step = 30801, loss = 2.2736e-05 (0.248 sec)\n",
      "INFO:tensorflow:global_step/sec: 392.655\n",
      "INFO:tensorflow:step = 30901, loss = 1.82465e-05 (0.255 sec)\n",
      "INFO:tensorflow:global_step/sec: 420.818\n",
      "INFO:tensorflow:step = 31001, loss = 9.36237e-05 (0.236 sec)\n",
      "INFO:tensorflow:global_step/sec: 493.733\n",
      "INFO:tensorflow:step = 31101, loss = 1.21087e-05 (0.205 sec)\n",
      "INFO:tensorflow:global_step/sec: 496.17\n",
      "INFO:tensorflow:step = 31201, loss = 0.000197811 (0.200 sec)\n",
      "INFO:tensorflow:global_step/sec: 431.764\n",
      "INFO:tensorflow:step = 31301, loss = 4.80753e-05 (0.235 sec)\n",
      "INFO:tensorflow:global_step/sec: 419.051\n",
      "INFO:tensorflow:step = 31401, loss = 4.7503e-05 (0.238 sec)\n",
      "INFO:tensorflow:global_step/sec: 451.286\n",
      "INFO:tensorflow:step = 31501, loss = 0.000122302 (0.220 sec)\n",
      "INFO:tensorflow:global_step/sec: 463.877\n",
      "INFO:tensorflow:step = 31601, loss = 1.67473e-05 (0.216 sec)\n",
      "INFO:tensorflow:global_step/sec: 435.522\n",
      "INFO:tensorflow:step = 31701, loss = 0.000114446 (0.232 sec)\n",
      "INFO:tensorflow:global_step/sec: 412.125\n",
      "INFO:tensorflow:step = 31801, loss = 3.65064e-05 (0.244 sec)\n",
      "INFO:tensorflow:global_step/sec: 472.667\n",
      "INFO:tensorflow:step = 31901, loss = 2.88474e-05 (0.211 sec)\n",
      "INFO:tensorflow:global_step/sec: 474.929\n",
      "INFO:tensorflow:step = 32001, loss = 2.22907e-05 (0.213 sec)\n",
      "INFO:tensorflow:global_step/sec: 439.354\n",
      "INFO:tensorflow:step = 32101, loss = 3.90623e-05 (0.227 sec)\n",
      "INFO:tensorflow:global_step/sec: 479.491\n",
      "INFO:tensorflow:step = 32201, loss = 5.78941e-05 (0.207 sec)\n",
      "INFO:tensorflow:global_step/sec: 506.267\n",
      "INFO:tensorflow:step = 32301, loss = 1.31172e-05 (0.199 sec)\n",
      "INFO:tensorflow:global_step/sec: 496.186\n",
      "INFO:tensorflow:step = 32401, loss = 3.77253e-05 (0.203 sec)\n",
      "INFO:tensorflow:global_step/sec: 447.237\n",
      "INFO:tensorflow:step = 32501, loss = 2.17414e-05 (0.221 sec)\n",
      "INFO:tensorflow:global_step/sec: 493.734\n",
      "INFO:tensorflow:step = 32601, loss = 2.32828e-05 (0.205 sec)\n",
      "INFO:tensorflow:global_step/sec: 486.509\n",
      "INFO:tensorflow:step = 32701, loss = 6.8523e-05 (0.207 sec)\n",
      "INFO:tensorflow:global_step/sec: 405.423\n",
      "INFO:tensorflow:step = 32801, loss = 1.64877e-05 (0.246 sec)\n",
      "INFO:tensorflow:global_step/sec: 426.215\n",
      "INFO:tensorflow:step = 32901, loss = 2.74332e-05 (0.236 sec)\n",
      "INFO:tensorflow:global_step/sec: 395.767\n",
      "INFO:tensorflow:step = 33001, loss = 6.75272e-05 (0.251 sec)\n",
      "INFO:tensorflow:global_step/sec: 463.879\n",
      "INFO:tensorflow:step = 33101, loss = 9.64338e-05 (0.217 sec)\n",
      "INFO:tensorflow:global_step/sec: 479.492\n",
      "INFO:tensorflow:step = 33201, loss = 2.8093e-05 (0.212 sec)\n",
      "INFO:tensorflow:global_step/sec: 380.657\n",
      "INFO:tensorflow:step = 33301, loss = 0.000101972 (0.259 sec)\n",
      "INFO:tensorflow:global_step/sec: 415.569\n",
      "INFO:tensorflow:step = 33401, loss = 3.40532e-05 (0.241 sec)\n",
      "INFO:tensorflow:global_step/sec: 463.879\n",
      "INFO:tensorflow:step = 33501, loss = 1.74609e-05 (0.215 sec)\n",
      "INFO:tensorflow:global_step/sec: 498.67\n",
      "INFO:tensorflow:step = 33601, loss = 2.06527e-05 (0.206 sec)\n",
      "INFO:tensorflow:global_step/sec: 486.507\n",
      "INFO:tensorflow:step = 33701, loss = 7.02339e-05 (0.203 sec)\n",
      "INFO:tensorflow:global_step/sec: 501.174\n",
      "INFO:tensorflow:step = 33801, loss = 7.01454e-05 (0.200 sec)\n",
      "INFO:tensorflow:global_step/sec: 451.286\n",
      "INFO:tensorflow:step = 33901, loss = 6.06656e-05 (0.220 sec)\n",
      "INFO:tensorflow:global_step/sec: 498.672\n",
      "INFO:tensorflow:step = 34001, loss = 5.47846e-05 (0.203 sec)\n",
      "INFO:tensorflow:global_step/sec: 491.3\n",
      "INFO:tensorflow:step = 34101, loss = 3.47578e-05 (0.205 sec)\n",
      "INFO:tensorflow:global_step/sec: 486.508\n",
      "INFO:tensorflow:step = 34201, loss = 2.34682e-05 (0.207 sec)\n",
      "INFO:tensorflow:global_step/sec: 493.733\n",
      "INFO:tensorflow:step = 34301, loss = 0.000134338 (0.202 sec)\n",
      "INFO:tensorflow:global_step/sec: 488.893\n",
      "INFO:tensorflow:step = 34401, loss = 7.71975e-06 (0.204 sec)\n",
      "INFO:tensorflow:global_step/sec: 459.604\n",
      "INFO:tensorflow:step = 34501, loss = 2.67107e-05 (0.216 sec)\n",
      "INFO:tensorflow:global_step/sec: 501.176\n",
      "INFO:tensorflow:step = 34601, loss = 1.04281e-05 (0.201 sec)\n",
      "INFO:tensorflow:global_step/sec: 491.296\n",
      "INFO:tensorflow:step = 34701, loss = 0.000118727 (0.203 sec)\n",
      "INFO:tensorflow:global_step/sec: 453.338\n",
      "INFO:tensorflow:step = 34801, loss = 2.33962e-05 (0.222 sec)\n",
      "INFO:tensorflow:global_step/sec: 374.941\n",
      "INFO:tensorflow:step = 34901, loss = 1.08666e-05 (0.268 sec)\n",
      "INFO:tensorflow:global_step/sec: 463.881\n",
      "INFO:tensorflow:step = 35001, loss = 9.13113e-06 (0.216 sec)\n",
      "INFO:tensorflow:global_step/sec: 496.187\n",
      "INFO:tensorflow:step = 35101, loss = 1.51624e-05 (0.200 sec)\n",
      "INFO:tensorflow:global_step/sec: 435.521\n",
      "INFO:tensorflow:step = 35201, loss = 2.45072e-05 (0.233 sec)\n",
      "INFO:tensorflow:global_step/sec: 338.08\n",
      "INFO:tensorflow:step = 35301, loss = 5.01407e-05 (0.295 sec)\n",
      "INFO:tensorflow:global_step/sec: 391.114\n",
      "INFO:tensorflow:step = 35401, loss = 3.30985e-05 (0.258 sec)\n",
      "INFO:tensorflow:global_step/sec: 400.537\n",
      "INFO:tensorflow:step = 35501, loss = 6.06764e-06 (0.247 sec)\n",
      "INFO:tensorflow:global_step/sec: 433.618\n",
      "INFO:tensorflow:step = 35601, loss = 4.32132e-05 (0.232 sec)\n",
      "INFO:tensorflow:global_step/sec: 403.787\n",
      "INFO:tensorflow:step = 35701, loss = 1.32216e-05 (0.247 sec)\n",
      "INFO:tensorflow:global_step/sec: 394.209\n",
      "INFO:tensorflow:step = 35801, loss = 9.92729e-06 (0.255 sec)\n",
      "INFO:tensorflow:global_step/sec: 376.355\n",
      "INFO:tensorflow:step = 35901, loss = 3.03981e-05 (0.266 sec)\n",
      "INFO:tensorflow:global_step/sec: 403.78\n",
      "INFO:tensorflow:step = 36001, loss = 1.62614e-05 (0.250 sec)\n",
      "INFO:tensorflow:global_step/sec: 472.668\n",
      "INFO:tensorflow:step = 36101, loss = 4.4442e-05 (0.208 sec)\n",
      "INFO:tensorflow:global_step/sec: 479.497\n",
      "INFO:tensorflow:step = 36201, loss = 1.21084e-05 (0.213 sec)\n",
      "INFO:tensorflow:global_step/sec: 403.777\n",
      "INFO:tensorflow:step = 36301, loss = 8.08841e-05 (0.245 sec)\n",
      "INFO:tensorflow:global_step/sec: 424.406\n",
      "INFO:tensorflow:step = 36401, loss = 1.2159e-05 (0.235 sec)\n",
      "INFO:tensorflow:global_step/sec: 453.335\n",
      "INFO:tensorflow:step = 36501, loss = 3.20589e-05 (0.223 sec)\n",
      "INFO:tensorflow:global_step/sec: 484.147\n",
      "INFO:tensorflow:step = 36601, loss = 2.02303e-05 (0.205 sec)\n",
      "INFO:tensorflow:global_step/sec: 481.807\n",
      "INFO:tensorflow:step = 36701, loss = 0.000109789 (0.210 sec)\n",
      "INFO:tensorflow:global_step/sec: 439.357\n",
      "INFO:tensorflow:step = 36801, loss = 6.79222e-06 (0.226 sec)\n",
      "INFO:tensorflow:global_step/sec: 479.488\n",
      "INFO:tensorflow:step = 36901, loss = 1.62821e-05 (0.211 sec)\n",
      "INFO:tensorflow:global_step/sec: 379.218\n",
      "INFO:tensorflow:step = 37001, loss = 5.38557e-05 (0.265 sec)\n",
      "INFO:tensorflow:global_step/sec: 410.425\n",
      "INFO:tensorflow:step = 37101, loss = 0.000114488 (0.243 sec)\n",
      "INFO:tensorflow:global_step/sec: 379.219\n",
      "INFO:tensorflow:step = 37201, loss = 5.976e-05 (0.264 sec)\n",
      "INFO:tensorflow:global_step/sec: 445.241\n",
      "INFO:tensorflow:step = 37301, loss = 1.21087e-05 (0.226 sec)\n",
      "INFO:tensorflow:global_step/sec: 457.496\n",
      "INFO:tensorflow:step = 37401, loss = 4.09572e-05 (0.219 sec)\n",
      "INFO:tensorflow:global_step/sec: 519.448\n",
      "INFO:tensorflow:step = 37501, loss = 7.39375e-05 (0.190 sec)\n",
      "INFO:tensorflow:global_step/sec: 503.707\n",
      "INFO:tensorflow:step = 37601, loss = 2.1497e-05 (0.200 sec)\n"
     ]
    },
    {
     "name": "stdout",
     "output_type": "stream",
     "text": [
      "INFO:tensorflow:global_step/sec: 459.602\n",
      "INFO:tensorflow:step = 37701, loss = 1.03636e-05 (0.217 sec)\n",
      "INFO:tensorflow:global_step/sec: 479.489\n",
      "INFO:tensorflow:step = 37801, loss = 0.000107745 (0.211 sec)\n",
      "INFO:tensorflow:global_step/sec: 443.265\n",
      "INFO:tensorflow:step = 37901, loss = 8.69446e-05 (0.224 sec)\n",
      "INFO:tensorflow:global_step/sec: 501.176\n",
      "INFO:tensorflow:step = 38001, loss = 1.36866e-05 (0.200 sec)\n",
      "INFO:tensorflow:global_step/sec: 380.665\n",
      "INFO:tensorflow:step = 38101, loss = 1.53964e-05 (0.265 sec)\n",
      "INFO:tensorflow:global_step/sec: 463.878\n",
      "INFO:tensorflow:step = 38201, loss = 2.09805e-05 (0.219 sec)\n",
      "INFO:tensorflow:global_step/sec: 402.152\n",
      "INFO:tensorflow:step = 38301, loss = 2.22999e-05 (0.247 sec)\n",
      "INFO:tensorflow:global_step/sec: 455.409\n",
      "INFO:tensorflow:step = 38401, loss = 1.46e-05 (0.219 sec)\n",
      "INFO:tensorflow:global_step/sec: 491.303\n",
      "INFO:tensorflow:step = 38501, loss = 0.000146781 (0.204 sec)\n",
      "INFO:tensorflow:global_step/sec: 479.489\n",
      "INFO:tensorflow:step = 38601, loss = 3.28799e-05 (0.209 sec)\n",
      "INFO:tensorflow:global_step/sec: 412.123\n",
      "INFO:tensorflow:step = 38701, loss = 6.01676e-05 (0.242 sec)\n",
      "INFO:tensorflow:global_step/sec: 441.301\n",
      "INFO:tensorflow:step = 38801, loss = 1.58324e-05 (0.228 sec)\n",
      "INFO:tensorflow:global_step/sec: 334.679\n",
      "INFO:tensorflow:step = 38901, loss = 3.73974e-05 (0.300 sec)\n",
      "INFO:tensorflow:global_step/sec: 320.688\n",
      "INFO:tensorflow:step = 39001, loss = 1.08643e-05 (0.310 sec)\n",
      "INFO:tensorflow:global_step/sec: 267.995\n",
      "INFO:tensorflow:step = 39101, loss = 3.55024e-05 (0.374 sec)\n",
      "INFO:tensorflow:global_step/sec: 285.771\n",
      "INFO:tensorflow:step = 39201, loss = 3.48821e-05 (0.353 sec)\n",
      "INFO:tensorflow:global_step/sec: 400.536\n",
      "INFO:tensorflow:step = 39301, loss = 5.49278e-05 (0.247 sec)\n",
      "INFO:tensorflow:global_step/sec: 374.941\n",
      "INFO:tensorflow:step = 39401, loss = 3.83998e-05 (0.266 sec)\n",
      "INFO:tensorflow:global_step/sec: 463.873\n",
      "INFO:tensorflow:step = 39501, loss = 9.23628e-05 (0.215 sec)\n",
      "INFO:tensorflow:global_step/sec: 439.362\n",
      "INFO:tensorflow:step = 39601, loss = 1.19585e-05 (0.228 sec)\n",
      "INFO:tensorflow:global_step/sec: 437.432\n",
      "INFO:tensorflow:step = 39701, loss = 1.01657e-05 (0.231 sec)\n",
      "INFO:tensorflow:global_step/sec: 413.831\n",
      "INFO:tensorflow:step = 39801, loss = 8.42162e-05 (0.243 sec)\n",
      "INFO:tensorflow:global_step/sec: 388.07\n",
      "INFO:tensorflow:step = 39901, loss = 1.54748e-05 (0.256 sec)\n",
      "INFO:tensorflow:Saving checkpoints for 40000 into C:\\Users\\przem85\\AppData\\Local\\Temp\\tmpoga7q041\\model.ckpt.\n",
      "INFO:tensorflow:Loss for final step: 1.98599e-05.\n",
      "WARNING:tensorflow:From C:\\Users\\przem85\\AppData\\Local\\conda\\conda\\envs\\tensorflow\\lib\\site-packages\\tensorflow\\python\\util\\deprecation.py:381: calling DNNClassifier.predict (from tensorflow.contrib.learn.python.learn.estimators.dnn) with outputs=None is deprecated and will be removed after 2017-03-01.\n",
      "Instructions for updating:\n",
      "Please switch to predict_classes, or set `outputs` argument.\n",
      "WARNING:tensorflow:From C:\\Users\\przem85\\AppData\\Local\\conda\\conda\\envs\\tensorflow\\lib\\site-packages\\tensorflow\\contrib\\learn\\python\\learn\\estimators\\dnn.py:454: calling BaseEstimator.predict (from tensorflow.contrib.learn.python.learn.estimators.estimator) with x is deprecated and will be removed after 2016-12-01.\n",
      "Instructions for updating:\n",
      "Estimator is decoupled from Scikit Learn interface by moving into\n",
      "separate class SKCompat. Arguments x, y and batch_size are only\n",
      "available in the SKCompat class, Estimator will only accept input_fn.\n",
      "Example conversion:\n",
      "  est = Estimator(...) -> est = SKCompat(Estimator(...))\n",
      "WARNING:tensorflow:float64 is not supported by many models, consider casting to float32.\n",
      "INFO:tensorflow:Restoring parameters from C:\\Users\\przem85\\AppData\\Local\\Temp\\tmpoga7q041\\model.ckpt-40000\n"
     ]
    }
   ],
   "source": [
    "import tensorflow as tf\n",
    "feature_columns = tf.contrib.learn.infer_real_valued_columns_from_input(X_train)\n",
    "dnn_clf = tf.contrib.learn.DNNClassifier(hidden_units=[300, 100], n_classes=10,\n",
    "    feature_columns=feature_columns)\n",
    "\n",
    "dnn_clf.fit(x=data_X, y=data_y, batch_size=50, steps=40000)\n",
    "y_pred = list(dnn_clf.predict(data_X))"
   ]
  },
  {
   "cell_type": "markdown",
   "metadata": {
    "collapsed": true
   },
   "source": [
    "# Zad\n",
    "Narysuj wynik powyższego programu"
   ]
  },
  {
   "cell_type": "code",
   "execution_count": 106,
   "metadata": {},
   "outputs": [
    {
     "name": "stdout",
     "output_type": "stream",
     "text": [
      "WARNING:tensorflow:float64 is not supported by many models, consider casting to float32.\n",
      "INFO:tensorflow:Restoring parameters from C:\\Users\\przem85\\AppData\\Local\\Temp\\tmpoga7q041\\model.ckpt-40000\n"
     ]
    },
    {
     "data": {
      "image/png": "[encoded data removed]",
      "text/plain": [
       "<matplotlib.figure.Figure at 0x20dd95a3e48>"
      ]
     },
     "metadata": {},
     "output_type": "display_data"
    }
   ],
   "source": []
  },
  {
   "cell_type": "markdown",
   "metadata": {},
   "source": [
    "# Możemy też sami zbudować sieć "
   ]
  },
  {
   "cell_type": "code",
   "execution_count": 107,
   "metadata": {
    "collapsed": true
   },
   "outputs": [],
   "source": [
    "tf.reset_default_graph()\n",
    "\n",
    "n_inputs = 2\n",
    "n_hidden1 = 300\n",
    "n_hidden2 = 100\n",
    "n_outputs = 2\n",
    "\n",
    "X = tf.placeholder(tf.float32, shape=(None, n_inputs), name=\"X\")\n",
    "y = tf.placeholder(tf.int64, shape=(None), name=\"y\")"
   ]
  },
  {
   "cell_type": "markdown",
   "metadata": {},
   "source": [
    "Wykorzystamy sieć typu fully_connected z funkcją aktywacji relu.\n"
   ]
  },
  {
   "cell_type": "code",
   "execution_count": 108,
   "metadata": {
    "collapsed": true
   },
   "outputs": [],
   "source": [
    "n_neurons=2\n",
    "with tf.name_scope(\"linear_model\"):\n",
    "    n_inputs = int(X.get_shape()[1])\n",
    "    stddev = 2 / np.sqrt(n_inputs)\n",
    "\n",
    "    init = tf.truncated_normal((n_inputs, n_neurons), stddev=stddev)\n",
    "\n",
    "    W = tf.Variable(init, name=\"weights\")\n",
    "    b = tf.Variable(tf.zeros([n_neurons]), name=\"biases\")\n",
    "    z = tf.matmul(X, W) + b\n",
    "    tf.nn.relu(z)"
   ]
  },
  {
   "cell_type": "code",
   "execution_count": 109,
   "metadata": {
    "collapsed": true
   },
   "outputs": [],
   "source": [
    "def neuron_layer(X, n_neurons, name, activation=None):\n",
    "    with tf.name_scope(name):\n",
    "        n_inputs = int(X.get_shape()[1])\n",
    "        stddev = 2 / np.sqrt(n_inputs)\n",
    "        init = tf.truncated_normal((n_inputs, n_neurons), stddev=stddev)\n",
    "        W = tf.Variable(init, name=\"weights\")\n",
    "        b = tf.Variable(tf.zeros([n_neurons]), name=\"biases\")\n",
    "        z = tf.matmul(X, W) + b\n",
    "        if activation==\"relu\":\n",
    "            return tf.nn.relu(z)\n",
    "        else:\n",
    "            return z\n",
    "\n",
    "with tf.name_scope(\"dnn\"):\n",
    "    hidden1 = neuron_layer(X, n_hidden1, \"hidden1\", activation=\"relu\")\n",
    "    hidden2 = neuron_layer(hidden1, n_hidden2, \"hidden2\", activation=\"relu\")\n",
    "    logits = neuron_layer(hidden2, n_outputs, \"outputs\")\n",
    "    \n",
    "with tf.name_scope(\"loss\"):\n",
    "    xentropy = tf.nn.sparse_softmax_cross_entropy_with_logits(labels=y, logits=logits)\n",
    "    loss = tf.reduce_mean(xentropy, name=\"loss\")   \n",
    "    \n",
    "learning_rate = 0.01\n",
    "\n",
    "with tf.name_scope(\"train\"):\n",
    "    optimizer = tf.train.GradientDescentOptimizer(learning_rate)\n",
    "    training_op = optimizer.minimize(loss)    \n",
    "    \n",
    "with tf.name_scope(\"eval\"):\n",
    "    correct = tf.nn.in_top_k(logits, y, 1)\n",
    "    accuracy = tf.reduce_mean(tf.cast(correct, tf.float32))    \n",
    "    \n",
    "    "
   ]
  },
  {
   "cell_type": "code",
   "execution_count": 110,
   "metadata": {},
   "outputs": [
    {
     "name": "stdout",
     "output_type": "stream",
     "text": [
      "0 Train accuracy: 0.94\n",
      "1 Train accuracy: 0.96\n",
      "2 Train accuracy: 0.9\n",
      "3 Train accuracy: 0.92\n",
      "4 Train accuracy: 0.98\n",
      "5 Train accuracy: 0.96\n",
      "6 Train accuracy: 0.96\n",
      "7 Train accuracy: 0.9\n",
      "8 Train accuracy: 0.9\n",
      "9 Train accuracy: 1.0\n",
      "10 Train accuracy: 0.96\n",
      "11 Train accuracy: 0.98\n",
      "12 Train accuracy: 0.94\n",
      "13 Train accuracy: 1.0\n",
      "14 Train accuracy: 0.98\n",
      "15 Train accuracy: 0.98\n",
      "16 Train accuracy: 1.0\n",
      "17 Train accuracy: 0.98\n",
      "18 Train accuracy: 1.0\n",
      "19 Train accuracy: 1.0\n",
      "20 Train accuracy: 1.0\n",
      "21 Train accuracy: 1.0\n",
      "22 Train accuracy: 1.0\n",
      "23 Train accuracy: 1.0\n",
      "24 Train accuracy: 1.0\n",
      "25 Train accuracy: 1.0\n",
      "26 Train accuracy: 1.0\n",
      "27 Train accuracy: 1.0\n",
      "28 Train accuracy: 1.0\n",
      "29 Train accuracy: 1.0\n",
      "30 Train accuracy: 1.0\n",
      "31 Train accuracy: 1.0\n",
      "32 Train accuracy: 1.0\n",
      "33 Train accuracy: 1.0\n",
      "34 Train accuracy: 1.0\n",
      "35 Train accuracy: 1.0\n",
      "36 Train accuracy: 1.0\n",
      "37 Train accuracy: 1.0\n",
      "38 Train accuracy: 1.0\n",
      "39 Train accuracy: 1.0\n"
     ]
    }
   ],
   "source": [
    "init = tf.global_variables_initializer()\n",
    "saver = tf.train.Saver()\n",
    "\n",
    "n_epochs = 40\n",
    "batch_size = 50\n",
    "\n",
    "def fetch_batch(epoch, batch_index, batch_size, X,  y):\n",
    "    np.random.seed(epoch * n_batches + batch_index)  # not shown in the book\n",
    "    indices = np.random.randint(X.shape[0], size=batch_size)  # not shown\n",
    "    X_batch = X[indices] # not shown\n",
    "    y_batch = y[indices] # not shown\n",
    "    return X_batch, y_batch\n",
    "\n",
    "with tf.Session() as sess:\n",
    "    init.run()\n",
    "    for epoch in range(n_epochs):\n",
    "        for batch_index in range(n_batches):\n",
    "            X_batch, y_batch = fetch_batch(epoch, batch_index, batch_size, data_X, data_y)\n",
    "            sess.run(training_op, feed_dict={X: X_batch, y: y_batch})\n",
    "        acc_train = accuracy.eval(feed_dict={X: X_batch, y: y_batch})\n",
    "        #acc_val = accuracy.eval(feed_dict={X: mnist.validation.images,y: mnist.validation.labels})\n",
    "        print(epoch, \"Train accuracy:\", acc_train)#, \"Val accuracy:\", acc_val)\n",
    "    save_path = saver.save(sess, \"./my_model_final.ckpt\")"
   ]
  },
  {
   "cell_type": "code",
   "execution_count": 111,
   "metadata": {},
   "outputs": [
    {
     "name": "stdout",
     "output_type": "stream",
     "text": [
      "INFO:tensorflow:Restoring parameters from ./my_model_final.ckpt\n",
      "[[-4.50067568  3.48027682]\n",
      " [ 5.42456865 -6.61987209]\n",
      " [-6.28870821  4.14164305]\n",
      " ..., \n",
      " [ 2.17544627 -5.43836355]\n",
      " [ 3.57405996 -3.74473214]\n",
      " [-1.88609052  2.811836  ]]\n",
      "(1000, 2)\n"
     ]
    }
   ],
   "source": [
    "with tf.Session() as sess:\n",
    "    saver.restore(sess, \"./my_model_final.ckpt\") # or better, use save_path\n",
    "    X_new_scaled = data_X\n",
    "    Z = logits.eval(feed_dict={X: X_new_scaled})\n",
    "    print(Z)\n",
    "    y_pred = np.argmax(Z, axis=1)\n",
    "    print(Z.shape)\n",
    "    "
   ]
  },
  {
   "cell_type": "markdown",
   "metadata": {},
   "source": [
    "# Zad\n",
    "Narysuj wynik powyższego programu"
   ]
  },
  {
   "cell_type": "code",
   "execution_count": 112,
   "metadata": {},
   "outputs": [
    {
     "name": "stdout",
     "output_type": "stream",
     "text": [
      "INFO:tensorflow:Restoring parameters from ./my_model_final.ckpt\n"
     ]
    },
    {
     "data": {
      "image/png": "[encoded data removed]",
      "text/plain": [
       "<matplotlib.figure.Figure at 0x20dd96f9b00>"
      ]
     },
     "metadata": {},
     "output_type": "display_data"
    }
   ],
   "source": []
  },
  {
   "cell_type": "markdown",
   "metadata": {},
   "source": [
    "Zamiast samemu implementwać wartwę możmy użyć funkcji fully_connected\n",
    "\n",
    "```python\n",
    "from tensorflow.contrib.layers import fully_connected\n",
    "with tf.name_scope(\"dnn\"):\n",
    "    hidden1 = fully_connected(X, n_hidden1, scope=\"hidden1\")\n",
    "    hidden2 = fully_connected(hidden1, n_hidden2, scope=\"hidden2\")\n",
    "    logits = fully_connected(hidden2, n_outputs, scope=\"outputs\",\n",
    "    activation_fn=None)\n",
    "```    "
   ]
  },
  {
   "cell_type": "markdown",
   "metadata": {},
   "source": [
    "# Zad\n",
    "Zmodyfikuj powyższy kod tak by wykorzystywał funkcję fully_connected"
   ]
  },
  {
   "cell_type": "code",
   "execution_count": null,
   "metadata": {
    "collapsed": true
   },
   "outputs": [],
   "source": []
  },
  {
   "cell_type": "markdown",
   "metadata": {},
   "source": [
    "# Zad\n",
    "Wykonaj lasyfikację za pomoca sieci nuronowej zzawierającej conajmniej 3 warstwy ukryte na danych iris."
   ]
  },
  {
   "cell_type": "code",
   "execution_count": null,
   "metadata": {
    "collapsed": true
   },
   "outputs": [],
   "source": []
  }
 ],
 "metadata": {
  "kernelspec": {
   "display_name": "Python 3",
   "language": "python",
   "name": "python3"
  },
  "language_info": {
   "codemirror_mode": {
    "name": "ipython",
    "version": 3
   },
   "file_extension": ".py",
   "mimetype": "text/x-python",
   "name": "python",
   "nbconvert_exporter": "python",
   "pygments_lexer": "ipython3",
   "version": "3.5.4"
  }
 },
 "nbformat": 4,
 "nbformat_minor": 2
}
