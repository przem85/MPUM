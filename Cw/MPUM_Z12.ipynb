{
 "cells": [
  {
   "cell_type": "markdown",
   "metadata": {},
   "source": [
    "# Zadanie 1\n",
    "Wygeneruj dane 2d oraz 3d w kształcie prostokąta (odpowiednio sześcianu). Wykonaj PCA i narysuj wszystkie (odpowiednio dwa i trzy) komponenty."
   ]
  },
  {
   "cell_type": "code",
   "execution_count": null,
   "metadata": {
    "collapsed": false
   },
   "outputs": [],
   "source": []
  },
  {
   "cell_type": "markdown",
   "metadata": {},
   "source": [
    "# Zadanie 2\n",
    "Dla danych 3d z powyższego zadania zredukuj wymiar do 2d.\n",
    "\n",
    "Narysuj dane\n",
    "\n",
    "  * w 2d po redukcji\n",
    "  * w 3d po redukcji (dane na płaszczyźnie w 3d)\n"
   ]
  },
  {
   "cell_type": "code",
   "execution_count": null,
   "metadata": {
    "collapsed": false
   },
   "outputs": [],
   "source": []
  },
  {
   "cell_type": "markdown",
   "metadata": {},
   "source": [
    "# Zadanie 3\n",
    "Pobierz dowolne dane (wymiaru więcej niż 5) z repozytorium UCI oraz wizualizuj je za pomocą PCA.\n",
    "Czyli zredukuj wymiar do 2d i narysuj."
   ]
  },
  {
   "cell_type": "code",
   "execution_count": null,
   "metadata": {
    "collapsed": false
   },
   "outputs": [],
   "source": []
  },
  {
   "cell_type": "markdown",
   "metadata": {},
   "source": [
    "# Zadanie 4\n",
    "\n",
    "Zad 4.\n",
    "Ściągnij bazę twarzy handwritten digits wykonaj algorytm PCA (5 wymiarów).\n",
    "\n",
    "```python\n",
    "\tfrom sklearn.datasets import load_digits\n",
    "\tdigits = load_digits()\n",
    "\tprint digits.keys()\n",
    "```\n",
    "\n",
    "Wykonaj grupowanie danych metodą k-means (k=9) na danych pełnego wymiaru oraz danych po algorytmie PCA wymiarach. Porównaj wyniki za pomocą miary Adjusted Rand index\n",
    "http://scikit-learn.org/stable/modules/clustering.html#clustering-evaluation.\n"
   ]
  },
  {
   "cell_type": "code",
   "execution_count": null,
   "metadata": {
    "collapsed": true
   },
   "outputs": [],
   "source": []
  },
  {
   "cell_type": "markdown",
   "metadata": {},
   "source": [
    "# Zadanie 5\n",
    "\n",
    "Zaimplementuj PCA samodzielnie i zaprezentuj jak działa na danych z iris."
   ]
  },
  {
   "cell_type": "code",
   "execution_count": null,
   "metadata": {
    "collapsed": true
   },
   "outputs": [],
   "source": []
  }
 ],
 "metadata": {
  "kernelspec": {
   "display_name": "Python 3",
   "language": "python",
   "name": "python3"
  },
  "language_info": {
   "codemirror_mode": {
    "name": "ipython",
    "version": 3
   },
   "file_extension": ".py",
   "mimetype": "text/x-python",
   "name": "python",
   "nbconvert_exporter": "python",
   "pygments_lexer": "ipython3",
   "version": "3.6.0"
  }
 },
 "nbformat": 4,
 "nbformat_minor": 0
}
